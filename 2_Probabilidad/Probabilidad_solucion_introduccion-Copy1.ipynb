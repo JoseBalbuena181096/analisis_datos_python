{
 "cells": [
  {
   "cell_type": "markdown",
   "id": "0640378a-6376-4630-8f4e-86d840ca8a2a",
   "metadata": {},
   "source": [
    "## Probabilidad"
   ]
  },
  {
   "cell_type": "markdown",
   "id": "f3ee62d4-1ed8-4223-baec-aa697f4b52bd",
   "metadata": {},
   "source": [
    "## Ejercicio moneda"
   ]
  },
  {
   "cell_type": "code",
   "execution_count": 1,
   "id": "2169cca3-1488-4b6d-ad1a-6e257b15ce63",
   "metadata": {},
   "outputs": [],
   "source": [
    "import numpy as np\n",
    "import random"
   ]
  },
  {
   "cell_type": "code",
   "execution_count": 2,
   "id": "72878eb8-1f31-4d87-9d54-546f49e52c00",
   "metadata": {},
   "outputs": [
    {
     "data": {
      "text/plain": [
       "0"
      ]
     },
     "execution_count": 2,
     "metadata": {},
     "output_type": "execute_result"
    }
   ],
   "source": [
    "np.random.randint(4) # un numero entre 0 y 3, el 4 no esta incluido"
   ]
  },
  {
   "cell_type": "code",
   "execution_count": 3,
   "id": "faf54a7f-095f-4cf6-bcf1-96670623d94e",
   "metadata": {},
   "outputs": [
    {
     "name": "stdout",
     "output_type": "stream",
     "text": [
      "Resultado lanzamiento aleatorio moneda [0 0 0 ... 0 0 1]\n"
     ]
    }
   ],
   "source": [
    "# Para simular la moneda tendremos 2 valores, 0 cara 1 cruz\n",
    "numero_experimentos = 100000\n",
    "# podemos simular una cantidad determinada de valores, en este caso 6 lanzamientos\n",
    "resultado = np.random.randint(2, size=numero_experimentos)\n",
    "print(f'Resultado lanzamiento aleatorio moneda {resultado}')"
   ]
  },
  {
   "cell_type": "code",
   "execution_count": 4,
   "id": "dea91900-f71b-4389-9c2a-b5d378fb5356",
   "metadata": {},
   "outputs": [
    {
     "name": "stdout",
     "output_type": "stream",
     "text": [
      "0.49996\n"
     ]
    }
   ],
   "source": [
    "# calcular la cruz\n",
    "cruz = np.count_nonzero(resultado == 1)\n",
    "proporcion_cruz = cruz / numero_experimentos \n",
    "print(proporcion_cruz)"
   ]
  },
  {
   "cell_type": "code",
   "execution_count": 5,
   "id": "39983320-59cd-4d18-9d71-b4dec6945f7d",
   "metadata": {},
   "outputs": [
    {
     "name": "stdout",
     "output_type": "stream",
     "text": [
      "0.50004\n"
     ]
    }
   ],
   "source": [
    "# calcular la cara\n",
    "cara = np.count_nonzero(resultado == 0)\n",
    "proporcion_cara = cara / numero_experimentos \n",
    "print(proporcion_cara)"
   ]
  },
  {
   "cell_type": "code",
   "execution_count": 6,
   "id": "11838c5c-bda9-47fc-868f-3c6dcab8a7ad",
   "metadata": {},
   "outputs": [
    {
     "data": {
      "text/plain": [
       "100000"
      ]
     },
     "execution_count": 6,
     "metadata": {},
     "output_type": "execute_result"
    }
   ],
   "source": [
    "# evento complementario\n",
    "np.count_nonzero(resultado == 1) + np.count_nonzero(resultado == 0)\n"
   ]
  },
  {
   "cell_type": "code",
   "execution_count": 7,
   "id": "3d576886-5f29-4435-91dc-07f00fa7a263",
   "metadata": {},
   "outputs": [
    {
     "data": {
      "text/plain": [
       "0.49995999999999996"
      ]
     },
     "execution_count": 7,
     "metadata": {},
     "output_type": "execute_result"
    }
   ],
   "source": [
    "## probabilidad de cruz que es complementaria de cara\n",
    "1 - np.count_nonzero(resultado == 0) / numero_experimentos"
   ]
  },
  {
   "cell_type": "markdown",
   "id": "a7ede94b-1bf3-49cb-a0ef-fa641f056f68",
   "metadata": {},
   "source": [
    "## Moneda trucada"
   ]
  },
  {
   "cell_type": "code",
   "execution_count": 8,
   "id": "e88788e5-aab9-483a-ab52-071032431156",
   "metadata": {},
   "outputs": [
    {
     "data": {
      "text/plain": [
       "array([0, 0, 0, 0, 0, 0, 0, 0, 0, 0])"
      ]
     },
     "execution_count": 8,
     "metadata": {},
     "output_type": "execute_result"
    }
   ],
   "source": [
    "# Simulamos que tenemos una moneda trucada donde 0 tiene la probabilidad de 1 de caer y 1 de 0 de ccaer\n",
    "np.random.choice([0,1], p=[1,0], size=(10))"
   ]
  },
  {
   "cell_type": "code",
   "execution_count": 9,
   "id": "73bc8cb1-d60f-48d2-884e-e59edb23030a",
   "metadata": {},
   "outputs": [
    {
     "data": {
      "text/plain": [
       "array([0, 1, 0, 0, 0, 1, 1, 0, 0, 1, 1, 0, 0, 0, 1, 0, 1, 1, 1, 1, 1, 0,\n",
       "       0, 1, 0, 0, 0, 0, 0, 1, 1, 0, 0, 1, 1, 1, 0, 0, 0, 0, 1, 0, 0, 0,\n",
       "       1, 0, 1, 0, 0, 0, 0, 0, 1, 0, 0, 1, 1, 0, 1, 1, 0, 1, 1, 0, 0, 0,\n",
       "       1, 1, 0, 0, 1, 0, 1, 0, 0, 0, 1, 0, 0, 0, 0, 1, 0, 1, 1, 1, 0, 1,\n",
       "       1, 1, 0, 0, 1, 1, 0, 0, 1, 0, 1, 0])"
      ]
     },
     "execution_count": 9,
     "metadata": {},
     "output_type": "execute_result"
    }
   ],
   "source": [
    "# Para que la probabilidad sea cargada pero no al 100% se da un porcentage mayor al 0 de caer de 0.6 y al 1 de 0.4\n",
    "np.random.choice([0,1], p=[0.6,0.4], size=100)"
   ]
  },
  {
   "cell_type": "code",
   "execution_count": 10,
   "id": "f5974fcc-ba35-4f54-97b5-951298a1d796",
   "metadata": {},
   "outputs": [],
   "source": [
    "numero_experimentos_trucada = 10000\n",
    "resultado_trucada = np.random.choice([0,1], p=[0.6,0.4], size=numero_experimentos_trucada)"
   ]
  },
  {
   "cell_type": "code",
   "execution_count": 11,
   "id": "c8632f8a-3039-4117-86a8-1e7d08e093b9",
   "metadata": {},
   "outputs": [
    {
     "name": "stdout",
     "output_type": "stream",
     "text": [
      "0.3997\n"
     ]
    }
   ],
   "source": [
    "# calcular la cruz\n",
    "cruz_trucada = np.count_nonzero(resultado_trucada == 1)\n",
    "proporcion_cruz_trucada = cruz_trucada  / numero_experimentos_trucada\n",
    "print(proporcion_cruz_trucada)"
   ]
  },
  {
   "cell_type": "code",
   "execution_count": 12,
   "id": "0b9d6a27-11a0-4098-b765-fe8700915e09",
   "metadata": {},
   "outputs": [
    {
     "name": "stdout",
     "output_type": "stream",
     "text": [
      "0.6003\n"
     ]
    }
   ],
   "source": [
    "# calcular la cara\n",
    "cara_trucada = np.count_nonzero(resultado_trucada == 0)\n",
    "proporcion_cara_trucada = cara_trucada   / numero_experimentos_trucada\n",
    "print(proporcion_cara_trucada)"
   ]
  }
 ],
 "metadata": {
  "kernelspec": {
   "display_name": "Python 3 (ipykernel)",
   "language": "python",
   "name": "python3"
  },
  "language_info": {
   "codemirror_mode": {
    "name": "ipython",
    "version": 3
   },
   "file_extension": ".py",
   "mimetype": "text/x-python",
   "name": "python",
   "nbconvert_exporter": "python",
   "pygments_lexer": "ipython3",
   "version": "3.11.13"
  }
 },
 "nbformat": 4,
 "nbformat_minor": 5
}
