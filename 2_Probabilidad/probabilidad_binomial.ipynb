{
 "cells": [
  {
   "cell_type": "markdown",
   "id": "4c5b47bd-fbc1-4392-8dad-195234bea685",
   "metadata": {},
   "source": [
    "## Distribución binomial\n",
    "\n",
    "Una distribucion binomial, repite n veces una serie de bernulli, una serie de bernulli es una serie de experimetos cuyo resultado solo puede ser exito o fracaso, p es la probabilidad de exito "
   ]
  },
  {
   "cell_type": "code",
   "execution_count": 1,
   "id": "c0d3172a-7427-44f6-9192-471b64b55353",
   "metadata": {},
   "outputs": [],
   "source": [
    "import numpy as np\n",
    "import matplotlib.pyplot as plt"
   ]
  },
  {
   "cell_type": "code",
   "execution_count": 2,
   "id": "924175e1-aabb-48b0-9be9-204a35f84e67",
   "metadata": {},
   "outputs": [
    {
     "data": {
      "text/plain": [
       "0"
      ]
     },
     "execution_count": 2,
     "metadata": {},
     "output_type": "execute_result"
    }
   ],
   "source": [
    "np.random.binomial(1, 0.5) # solo puede ser 1 o 0, la probabilidade de exito es de 0.5 y fracaso es 1 - p "
   ]
  },
  {
   "cell_type": "code",
   "execution_count": 3,
   "id": "d7e2b10a-c98e-4913-b573-c24e6f7bf36a",
   "metadata": {},
   "outputs": [
    {
     "data": {
      "text/plain": [
       "array([2, 2, 1, 1, 2])"
      ]
     },
     "execution_count": 3,
     "metadata": {},
     "output_type": "execute_result"
    }
   ],
   "source": [
    "np.random.binomial(3, 0.5, size=5) # hablamos de binomiales cuando n es superior a 1, es raro una solo pregunta\n",
    "# Por ejemplo tenemos 3 preguntas, con la probabilidad de exito es 0.5, podemos lanzar n cantidad de examenes\n",
    "# En el primer examen solo respondi 0 preguntas bien, en el segundo examen respondi 0 bien, el tercero 2 preguntas bien\n",
    "# El cuarto las 3 bien y el quinto solo 2 bien"
   ]
  },
  {
   "cell_type": "code",
   "execution_count": 4,
   "id": "32987c9d-7039-4084-9dcf-3655f709e398",
   "metadata": {},
   "outputs": [
    {
     "name": "stdout",
     "output_type": "stream",
     "text": [
      "Notas trimestre: [0 3 3 ... 3 1 2]\n"
     ]
    }
   ],
   "source": [
    "res = np.random.binomial(3, 0.5, size=100000) # Debemos usar la ley de los grandes numeros\n",
    "print(f\"Notas trimestre: {res}\")"
   ]
  },
  {
   "cell_type": "code",
   "execution_count": 5,
   "id": "553cabce-37a0-44a5-b31e-b7794456ee30",
   "metadata": {},
   "outputs": [
    {
     "name": "stdout",
     "output_type": "stream",
     "text": [
      "Examenes con dos respuestas correctas: 37293\n"
     ]
    }
   ],
   "source": [
    "cuenta_exam = 0\n",
    "for nota in res:\n",
    "    if nota == 2:\n",
    "        cuenta_exam += 1\n",
    "print(f'Examenes con dos respuestas correctas: {cuenta_exam}')"
   ]
  },
  {
   "cell_type": "code",
   "execution_count": 6,
   "id": "6d415890-2e7c-4483-8fa4-96552d6264fa",
   "metadata": {},
   "outputs": [
    {
     "data": {
      "text/plain": [
       "0.37293"
      ]
     },
     "execution_count": 6,
     "metadata": {},
     "output_type": "execute_result"
    }
   ],
   "source": [
    "cuenta_exam / len(res)"
   ]
  },
  {
   "cell_type": "code",
   "execution_count": 7,
   "id": "f305351c-fa1c-4921-a6d2-be548ea8001a",
   "metadata": {},
   "outputs": [
    {
     "data": {
      "text/plain": [
       "(array([12440.,     0.,     0., 37598.,     0.,     0., 37293.,     0.,\n",
       "            0., 12669.]),\n",
       " array([0. , 0.3, 0.6, 0.9, 1.2, 1.5, 1.8, 2.1, 2.4, 2.7, 3. ]),\n",
       " <BarContainer object of 10 artists>)"
      ]
     },
     "execution_count": 7,
     "metadata": {},
     "output_type": "execute_result"
    },
    {
     "data": {
      "image/png": "[encoded data removed]",
      "text/plain": [
       "<Figure size 640x480 with 1 Axes>"
      ]
     },
     "metadata": {},
     "output_type": "display_data"
    }
   ],
   "source": [
    "plt.hist(res)"
   ]
  },
  {
   "cell_type": "code",
   "execution_count": 8,
   "id": "9631103d-f7e6-4e29-a767-87053f5e1fa3",
   "metadata": {},
   "outputs": [],
   "source": [
    "## Un examen tiene 100 preguntas\n",
    "res = np.random.binomial(100, 0.5, size=100000)\n",
    "#print(res)"
   ]
  },
  {
   "cell_type": "code",
   "execution_count": 9,
   "id": "6abe7074-e9c7-4b18-8a3b-fdd2d52a1885",
   "metadata": {},
   "outputs": [
    {
     "data": {
      "text/plain": [
       "(array([5.0000e+01, 1.5800e+02, 4.3900e+02, 1.1510e+03, 2.6640e+03,\n",
       "        5.2520e+03, 1.4492e+04, 1.3872e+04, 1.5605e+04, 1.5067e+04,\n",
       "        1.2688e+04, 8.7950e+03, 5.3470e+03, 3.3460e+03, 7.2100e+02,\n",
       "        2.5300e+02, 7.2000e+01, 2.2000e+01, 5.0000e+00, 1.0000e+00]),\n",
       " array([31.  , 33.15, 35.3 , 37.45, 39.6 , 41.75, 43.9 , 46.05, 48.2 ,\n",
       "        50.35, 52.5 , 54.65, 56.8 , 58.95, 61.1 , 63.25, 65.4 , 67.55,\n",
       "        69.7 , 71.85, 74.  ]),\n",
       " <BarContainer object of 20 artists>)"
      ]
     },
     "execution_count": 9,
     "metadata": {},
     "output_type": "execute_result"
    },
    {
     "data": {
      "image/png": "[encoded data removed]",
      "text/plain": [
       "<Figure size 640x480 with 1 Axes>"
      ]
     },
     "metadata": {},
     "output_type": "display_data"
    }
   ],
   "source": [
    "plt.hist(res, bins=20)"
   ]
  },
  {
   "cell_type": "markdown",
   "id": "d4956acb-5797-43ca-9ab7-20f8becbb058",
   "metadata": {},
   "source": [
    "## Transacciones Fraudulentas"
   ]
  },
  {
   "cell_type": "markdown",
   "id": "1e79f347-d9a3-471f-8ad5-292ad779aca9",
   "metadata": {},
   "source": [
    "\n",
    "Trabajamos en un gran banco que opera a nivel mundial. El equipo financiero nos contacta por una decisión que van a tomar respecto a un nuevo software y piensan que desde el departamento de análisis de datos les podemos ayudar.\n",
    "\n",
    "\n",
    "Este equipo se ocupa de las transacciones fraudulentas. Al día reciben 10000 transacciones y debido al gran número no pueden analizarlas todas manualmente. Por lo tanto, se apoyan en un software que es capaz de identificar 100 transacciones fraudulentas al día.\n",
    "Aunque el software es muy eficaz no es capaz de identificarlas todas y se estima que el 4% de las transacciones restantes son fraudulentas.\n",
    "Si una transacción es fraudulenta y no ha sido identificada como tal, el coste está cubierto por el banco para que no repercuta en sus clientes. Esto quiere decir que por cada transacción fraudulenta que no es identificada el banco tiene un coste de 30€, es el valor promedio de las transacciones fraudulentas.\n",
    "\n",
    "\n",
    "\n",
    "Primero queremos estimar el coste que repercute en el banco por las transacciones fraudulentas con el software actual."
   ]
  },
  {
   "cell_type": "markdown",
   "id": "cf0c04ff-6b5e-4fe1-a4fb-113d3e275856",
   "metadata": {},
   "source": [
    "1. ¿Qué herramienta podemos utilizar para calcular el coste de las transacciones fraudulentas? \n",
    "2. Una variable X ~ B (n, p) donde *n* es:\n",
    "3. y p es:\n",
    "4. Representa el problema utilizando Python y estima el coste de las transacciones fraudulentas con el software actual."
   ]
  },
  {
   "cell_type": "markdown",
   "id": "c4d87c3a-7273-4312-a5fc-1e6ac4389d1d",
   "metadata": {},
   "source": [
    "\n",
    "Podemos utilizar la distribución binomial para modelar este problema. La distribución binomial es ideal cuando tenemos:\n",
    "\n",
    "- Un número fijo de ensayos independientes (n = 10,000 transacciones)\n",
    "- Cada ensayo tiene dos resultados posibles (fraudulenta o no fraudulenta)\n",
    "- La probabilidad de éxito (fraude) es constante (p = 0.04)\n"
   ]
  },
  {
   "cell_type": "markdown",
   "id": "6c924cd3-5dd2-483a-9721-bcf077b2a3ba",
   "metadata": {},
   "source": [
    "\n",
    "2. Una variable X ~ B(n, p) donde n es:\n",
    "n = 10,000 (el número de transacciones restantes después de que el software identifica las 100 fraudulentas)\n",
    "3. y p es:\n",
    "p = 0.04 (la probabilidad de que una transacción no identificada sea fraudulenta)\n"
   ]
  },
  {
   "cell_type": "code",
   "execution_count": 10,
   "id": "122ac273-82d4-47b5-8f6a-ae16d88b889f",
   "metadata": {},
   "outputs": [],
   "source": [
    "#Representa el problema utilizando Python y estima el coste de las transacciones fraudulentas con el software actual.\n",
    "\n",
    "import numpy as np\n",
    "import matplotlib.pyplot as plt\n",
    " \n",
    "# distribución binomial un dia \n",
    "transacciones = np.random.binomial(10000,0.04)"
   ]
  },
  {
   "cell_type": "code",
   "execution_count": 11,
   "id": "b4faadbd-df77-41ed-87e2-32362160e993",
   "metadata": {},
   "outputs": [
    {
     "name": "stdout",
     "output_type": "stream",
     "text": [
      "[402 395 430 373 411 357 386 407 395 424 423 417 421 388 443 406 411 423\n",
      " 372 410 385 405 423 394 400 391 387 384 381 414 422 433 410 366 421 383\n",
      " 398 411 384 410 368 397 406 383 415 414 401 392 414 381 412 425 372 390\n",
      " 423 400 406 383 412 401 382 423 395 358 385 399 406 425 392 384 396 421\n",
      " 379 389 399 387 435 353 394 395 422 420 384 418 384 390 409 430 386 410\n",
      " 421 360 392 407 414 447 397 418 406 396 410 392 425 378 389 409 415 405\n",
      " 396 373 403 386 403 374 404 418 430 381 406 408 403 384 407 407 398 405\n",
      " 434 405 398 428 385 402 381 379 409 410 405 409 425 369 377 393 419 424\n",
      " 429 384 403 404 404 402 390 385 347 377 404 384 418 387 427 377 385 428\n",
      " 398 421 404 420 396 402 402 391 388 375 401 419 408 423 389 404 394 405\n",
      " 408 414 369 385 411 387 380 407 415 399 410 398 370 367 418 401 432 400\n",
      " 403 408 428 396 396 389 407 382 388 365 409 418 384 413 415 428 434 391\n",
      " 405 423 413 379 368 426 382 384 403 400 368 397 411 415 383 371 392 377\n",
      " 376 404 341 402 376 377 379 437 419 430 404 416 411 420 422 394 404 383\n",
      " 391 400 359 398 428 431 439 389 409 410 392 419 429 412 384 373 393 420\n",
      " 393 395 404 414 423 406 380 389 375 400 389 402 411 385 426 409 408 388\n",
      " 421 426 386 423 376 373 416 415 436 404 411 372 373 421 424 414 404 385\n",
      " 386 396 415 383 417 407 393 420 418 388 415 393 402 399 395 413 400 410\n",
      " 416 400 362 423 420 441 385 381 407 366 432 390 407 399 424 393 411 379\n",
      " 400 419 457 418 401 417 367 394 350 399 389 416 382 391 398 394 404 418\n",
      " 388 399 420 378 420]\n"
     ]
    }
   ],
   "source": [
    "# distribución binomial del año\n",
    "transacciones_fraudulentas_year = np.random.binomial(10000, 0.04, size=365)\n",
    "print(transacciones_fraudulentas_year)"
   ]
  },
  {
   "cell_type": "code",
   "execution_count": 12,
   "id": "4c054110-881e-4d5b-9c41-fbd731a50c05",
   "metadata": {},
   "outputs": [
    {
     "data": {
      "text/plain": [
       "np.int64(146310)"
      ]
     },
     "execution_count": 12,
     "metadata": {},
     "output_type": "execute_result"
    }
   ],
   "source": [
    "# calcular el coste de las transacciones fraudulentas\n",
    "total_transacciones_fraudulentas_year  = sum(transacciones_fraudulentas_year )\n",
    "total_transacciones_fraudulentas_year"
   ]
  },
  {
   "cell_type": "code",
   "execution_count": 13,
   "id": "e52eb086-e1e2-4b78-9bc5-bb441e385473",
   "metadata": {},
   "outputs": [
    {
     "name": "stdout",
     "output_type": "stream",
     "text": [
      "El coste de las transacciones fraudulentas es 4389300\n"
     ]
    }
   ],
   "source": [
    "coste_transacciones_fraudulentas = total_transacciones_fraudulentas_year * 30 \n",
    "print(f'El coste de las transacciones fraudulentas es {coste_transacciones_fraudulentas}')"
   ]
  },
  {
   "cell_type": "markdown",
   "id": "ff002ed2-3b4b-45ba-8ad3-d54d849d8508",
   "metadata": {},
   "source": [
    "Una empresa especializada en inteligencia artificial ha contactado al equipo financiero y les ha demostrado que pueden mejorar la identificación de las transacciones fraudulentas. Esto les permitiría reducir del 4% al 2% el número de transacciones no identificadas. El equipo financiero estaba encantado hasta que el proveedor les ha indicado que este software tendría un coste de 500’000 € anuales.\n",
    "\n",
    "\n",
    "Su intuición les dice que cambiar y utilizar el software nuevo es la decisión correcta, pero prefieren basarse en un método numérico para tomar la decisión. Es por este motivo que nos han contactado, les gustaría saber si los números apoyan su intuición y por lo tanto cambiar de software es la decisión correcta."
   ]
  },
  {
   "cell_type": "markdown",
   "id": "3319c888-7407-499f-8a3c-cb5ae1051595",
   "metadata": {},
   "source": [
    "Si seguimos representando la identificación de transacciones fraudulentas como una distribución binomial, ¿qué parámetro cambia con el software nuevo? R = p"
   ]
  },
  {
   "cell_type": "markdown",
   "id": "a1e4f186-2ca3-4bef-80c9-96d12851e2d5",
   "metadata": {},
   "source": [
    "¿Cuál es el nuevo valor de p? R = 0.2"
   ]
  },
  {
   "cell_type": "markdown",
   "id": "47beaf82-6486-447f-b858-e77007365b1f",
   "metadata": {},
   "source": [
    "3. Representar el problema utilizando Python y estimar el coste de las transacciones fraudulentas con el software nuevo."
   ]
  },
  {
   "cell_type": "code",
   "execution_count": 14,
   "id": "6b1eff35-074f-4ef9-8836-36bb748a68c1",
   "metadata": {},
   "outputs": [
    {
     "name": "stdout",
     "output_type": "stream",
     "text": [
      "El coste de las transacciones fraudulentas es 2184630\n"
     ]
    }
   ],
   "source": [
    "#Representa el problema utilizando Python y estima el coste de las transacciones fraudulentas con el software actual.\n",
    "\n",
    "import numpy as np\n",
    "import matplotlib.pyplot as plt\n",
    " \n",
    "\n",
    "# distribución binomial \n",
    "transacciones_fraudulentas_year_nuevo = np.random.binomial(10000, 0.02, size=365)\n",
    "total_transacciones_fraudulentas_year_nuevo  = sum(transacciones_fraudulentas_year_nuevo )\n",
    "coste_transacciones_fraudulentas_nuevo = total_transacciones_fraudulentas_year_nuevo * 30 \n",
    "print(f'El coste de las transacciones fraudulentas es {coste_transacciones_fraudulentas_nuevo}')"
   ]
  },
  {
   "cell_type": "markdown",
   "id": "02b6dfd6-9f39-4c1f-ba38-fd637599a85c",
   "metadata": {},
   "source": [
    "**4**. ¿Reduce costes utilizar el software nuevo?"
   ]
  },
  {
   "cell_type": "code",
   "execution_count": 15,
   "id": "5af10c19-419e-44d3-88cf-78aea12a3389",
   "metadata": {},
   "outputs": [
    {
     "name": "stdout",
     "output_type": "stream",
     "text": [
      "Reduccion 1704670\n"
     ]
    }
   ],
   "source": [
    "# reduccion de coste\n",
    "reduccion_coste = coste_transacciones_fraudulentas - coste_transacciones_fraudulentas_nuevo  - 500_000\n",
    "print(f'Reduccion {reduccion_coste}')"
   ]
  }
 ],
 "metadata": {
  "kernelspec": {
   "display_name": "Python 3 (ipykernel)",
   "language": "python",
   "name": "python3"
  },
  "language_info": {
   "codemirror_mode": {
    "name": "ipython",
    "version": 3
   },
   "file_extension": ".py",
   "mimetype": "text/x-python",
   "name": "python",
   "nbconvert_exporter": "python",
   "pygments_lexer": "ipython3",
   "version": "3.11.13"
  }
 },
 "nbformat": 4,
 "nbformat_minor": 5
}
