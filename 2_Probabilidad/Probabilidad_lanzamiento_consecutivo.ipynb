{
 "cells": [
  {
   "cell_type": "markdown",
   "metadata": {
    "id": "Z_VJweoK_V66"
   },
   "source": [
    "# Probabilidad"
   ]
  },
  {
   "cell_type": "markdown",
   "metadata": {
    "id": "srlKvj4ISqEI"
   },
   "source": [
    "# Lanzamientos Consecutivos"
   ]
  },
  {
   "cell_type": "markdown",
   "metadata": {
    "id": "ugu0mVUIZU4V"
   },
   "source": [
    "Tenemos una moneda trucada de la siguiente forma:\n",
    "\n",
    "*   P(c): 0,6\n",
    "*   P(x): 0,4\n",
    "\n",
    "Vamos a realizar dos lanzamientos consecutivos y queremos calcular la probabilidade de los diferentes resultados. Primero dibujamos el arbol de probabilidades:\n",
    "\n",
    "![](uno.png)\n",
    "\n",
    "Para facilitarnos el trabajo creamos también la siguiente tabla:\n",
    "\n",
    "![](dos.png)\n",
    "\n"
   ]
  },
  {
   "cell_type": "markdown",
   "metadata": {
    "id": "0uhe_5bo2yjN"
   },
   "source": [
    "En las imágenes podemos ver escrito repetidas veces 'Resp.' junto a un número. Cada número está relacionado con una de las preguntas más abajo. Selecciona la respuesta correcta para completar las imágenes."
   ]
  },
  {
   "cell_type": "code",
   "execution_count": 1,
   "metadata": {
    "cellView": "form",
    "id": "EW-ejSbJcYGV"
   },
   "outputs": [
    {
     "name": "stdout",
     "output_type": "stream",
     "text": [
      "Selecciona una de las respuestas del desplegable\n",
      "\n",
      " \n",
      " Si deseas comprobar otra solución es necesario que ejecutes de nuevo la celda\n"
     ]
    }
   ],
   "source": [
    "#@markdown Resp.1\n",
    "respuesta = '' #@param [\"0,36\", \"0,4\", \"0,5\", \"0,6\"] {allow-input: true}\n",
    "\n",
    "# correcion de la respuesta\n",
    "def solucion(opcion):\n",
    "  if opcion == '0,6':\n",
    "    print('¡Respuesta correcta! ')\n",
    "  elif opcion == '0,5':\n",
    "    print('Respuesta incorrecta')\n",
    "  elif opcion == '0,4':\n",
    "    print('Respuesta incorrecta')\n",
    "  elif opcion == '0,36':\n",
    "    print('Respuesta incorrecta')\n",
    "  else:\n",
    "    print('Selecciona una de las respuestas del desplegable')\n",
    "\n",
    "solucion(respuesta)\n",
    "print(f\"\\n \\n Si deseas comprobar otra solución es necesario que ejecutes de nuevo la celda\")"
   ]
  },
  {
   "cell_type": "code",
   "execution_count": null,
   "metadata": {
    "cellView": "form",
    "id": "XcWQHecBcX9A"
   },
   "outputs": [],
   "source": [
    "#@markdown Resp.2\n",
    "respuesta = '' #@param [\"0,36\", \"0,4\", \"0,16\", \"0,6\"] {allow-input: true}\n",
    "\n",
    "# correcion de la respuesta\n",
    "def solucion(opcion):\n",
    "  if opcion == '0,4':\n",
    "    print('¡Respuesta correcta! ')\n",
    "  elif opcion == '0,16':\n",
    "    print('Respuesta incorrecta')\n",
    "  elif opcion == '0,6':\n",
    "    print('Respuesta incorrecta')\n",
    "  elif opcion == '0,36':\n",
    "    print('Respuesta incorrecta')\n",
    "  else:\n",
    "    print('Selecciona una de las respuestas del desplegable')\n",
    "\n",
    "solucion(respuesta)\n",
    "print(f\"\\n \\n Si deseas comprobar otra solución es necesario que ejecutes de nuevo la celda\")"
   ]
  },
  {
   "cell_type": "code",
   "execution_count": null,
   "metadata": {
    "cellView": "form",
    "id": "O5ILLFD7cX1P"
   },
   "outputs": [],
   "source": [
    "#@markdown Resp.3\n",
    "respuesta = '' #@param [\"c (cara)\", \"0,5\", \"x (cruz)\", \"0,6\"] {allow-input: true}\n",
    "\n",
    "# correcion de la respuesta\n",
    "def solucion(opcion):\n",
    "  if opcion == 'x (cruz)':\n",
    "    print('¡Respuesta correcta! ')\n",
    "  else:\n",
    "    print('Respuesta incorrecta')\n",
    "\n",
    "solucion(respuesta)\n",
    "print(f\"\\n \\n Si deseas comprobar otra solución es necesario que ejecutes de nuevo la celda\")"
   ]
  },
  {
   "cell_type": "code",
   "execution_count": null,
   "metadata": {
    "cellView": "form",
    "id": "--4lCtMacXtu"
   },
   "outputs": [],
   "source": [
    "#@markdown Resp.4\n",
    "respuesta = '' #@param [\"c (cara)\", \"0,5\", \"x (cruz)\", \"0,6\"] {allow-input: true}\n",
    "\n",
    "# correcion de la respuesta\n",
    "def solucion(opcion):\n",
    "  if opcion == 'x (cruz)':\n",
    "    print('¡Respuesta correcta! ')\n",
    "  else:\n",
    "    print('Respuesta incorrecta')\n",
    "\n",
    "solucion(respuesta)\n",
    "print(f\"\\n \\n Si deseas comprobar otra solución es necesario que ejecutes de nuevo la celda\")"
   ]
  },
  {
   "cell_type": "code",
   "execution_count": null,
   "metadata": {
    "cellView": "form",
    "id": "YY0Fz6tScXjT"
   },
   "outputs": [],
   "source": [
    "#@markdown Resp.5\n",
    "respuesta = '' #@param [\"0,36\", \"0,6\", \"0,4\", \"0,16\"] {allow-input: true}\n",
    "\n",
    "# correcion de la respuesta\n",
    "def solucion(opcion):\n",
    "  if opcion == '0,36':\n",
    "    print('¡Respuesta correcta! ')\n",
    "  else:\n",
    "    print('Respuesta incorrecta')\n",
    "\n",
    "solucion(respuesta)\n",
    "print(f\"\\n \\n Si deseas comprobar otra solución es necesario que ejecutes de nuevo la celda\")"
   ]
  },
  {
   "cell_type": "code",
   "execution_count": null,
   "metadata": {
    "cellView": "form",
    "id": "7D4KhPtycW0g"
   },
   "outputs": [],
   "source": [
    "#@markdown Resp.6\n",
    "respuesta = '' #@param [\"0,36\", \"0,6\", \"0,24\", \"0,16\"] {allow-input: true}\n",
    "\n",
    "# correcion de la respuesta\n",
    "def solucion(opcion):\n",
    "  if opcion == '0,24':\n",
    "    print('¡Respuesta correcta! ')\n",
    "  else:\n",
    "    print('Respuesta incorrecta')\n",
    "\n",
    "solucion(respuesta)\n",
    "print(f\"\\n \\n Si deseas comprobar otra solución es necesario que ejecutes de nuevo la celda\")"
   ]
  }
 ],
 "metadata": {
  "colab": {
   "collapsed_sections": [
    "srlKvj4ISqEI",
    "pFSbWirj6dvW",
    "gOXys6pL6g-k"
   ],
   "provenance": []
  },
  "kernelspec": {
   "display_name": "Python 3 (ipykernel)",
   "language": "python",
   "name": "python3"
  },
  "language_info": {
   "codemirror_mode": {
    "name": "ipython",
    "version": 3
   },
   "file_extension": ".py",
   "mimetype": "text/x-python",
   "name": "python",
   "nbconvert_exporter": "python",
   "pygments_lexer": "ipython3",
   "version": "3.11.13"
  }
 },
 "nbformat": 4,
 "nbformat_minor": 4
}
