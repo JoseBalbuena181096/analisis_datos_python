{
 "cells": [
  {
   "cell_type": "code",
   "execution_count": 1,
   "id": "761b83f6-509e-4292-b978-5d4b0b573259",
   "metadata": {},
   "outputs": [],
   "source": [
    "import numpy as np\n",
    "import matplotlib.pyplot as plt \n",
    "import scipy.stats as stats"
   ]
  },
  {
   "cell_type": "code",
   "execution_count": 2,
   "id": "89b2ffe4-a227-4659-a847-28b8659d3e3f",
   "metadata": {},
   "outputs": [],
   "source": [
    "mu = 10\n",
    "sigma = 1"
   ]
  },
  {
   "cell_type": "code",
   "execution_count": 3,
   "id": "0d7de408-fe2e-43f4-8cb4-59987e3b684e",
   "metadata": {
    "scrolled": true
   },
   "outputs": [
    {
     "data": {
      "image/png": "[encoded data removed]",
      "text/plain": [
       "<Figure size 640x480 with 1 Axes>"
      ]
     },
     "metadata": {},
     "output_type": "display_data"
    }
   ],
   "source": [
    "x = np.linspace(7, 13, 100)\n",
    "y = stats.norm.pdf(x, mu, sigma)\n",
    "\n",
    "plt.plot(x, y, label='μ: 10,  σ:1')\n",
    "plt.xlim(4, 18)\n",
    "plt.legend()\n",
    "plt.show()"
   ]
  },
  {
   "cell_type": "markdown",
   "id": "aad9ff08-f2b2-4bbd-9624-38b701d8e3be",
   "metadata": {},
   "source": [
    "## PDF (Probability Density Function) - Función de Densidad de Probabilidad\n",
    "¿Qué calcula?\n",
    "\n",
    "- La densidad de probabilidad en un punto específico\n",
    "- Representa qué tan \"probable\" es un valor en relación con otros\n",
    "- Para variables continuas, NO da probabilidades directamente (puede ser > 1)\n",
    "## Características:\n",
    "- El área total bajo la curva = 1\n",
    "- Valores individuales NO son probabilidades\n",
    "- Se usa para ver dónde se \"concentra\" la distribución"
   ]
  },
  {
   "cell_type": "code",
   "execution_count": 4,
   "id": "1e646a29-807f-4f5f-86c9-cf8b6158523b",
   "metadata": {},
   "outputs": [
    {
     "data": {
      "text/plain": [
       "np.float64(0.05399096651318806)"
      ]
     },
     "execution_count": 4,
     "metadata": {},
     "output_type": "execute_result"
    }
   ],
   "source": [
    "# densidad de la probabilidad para x=12\n",
    "stats.norm.pdf(12, mu, sigma)"
   ]
  },
  {
   "cell_type": "markdown",
   "id": "e06a5f7f-e149-4a33-b9d0-42a6a4d66991",
   "metadata": {},
   "source": [
    "## CDF (Cumulative Distribution Function) - Función de Distribución Acumulada\n",
    "¿Qué calcula?\n",
    "- La probabilidad acumulada hasta un punto: P(X ≤ x)\n",
    "Responde: \"¿Qué probabilidad hay de que el valor sea menor o igual a x?\"\n",
    "\n",
    "## **Diferencias clave:**\n",
    "\n",
    "| Aspecto | PDF | CDF |\n",
    "|---------|-----|-----|\n",
    "| **Rango** | [0, ∞) | [0, 1] |\n",
    "| **Interpetación** | Densidad relativa | Probabilidad acumulada |\n",
    "| **Utilidad** | Ver forma de distribución | Calcular probabilidades P(X ≤ x) |\n",
    "| **Ejemplo** | \"Densidad en x=2 es 0.05\" | \"P(X ≤ 2) = 0.977\" |\n",
    "\n",
    "## **¿Cuándo usar cada una?**\n",
    "\n",
    "- **PDF**: Para visualizar la distribución, encontrar máximos/moda\n",
    "- **CDF**: Para calcular probabilidades de rangos, percentiles, intervalos de confianza"
   ]
  },
  {
   "cell_type": "code",
   "execution_count": 5,
   "id": "e11224ed-40c2-4444-b0a9-ab03c906c968",
   "metadata": {},
   "outputs": [
    {
     "data": {
      "text/plain": [
       "np.float64(0.5)"
      ]
     },
     "execution_count": 5,
     "metadata": {},
     "output_type": "execute_result"
    }
   ],
   "source": [
    "# funcion de probabilidad acumulada P(X<= 12)\n",
    "stats.norm.cdf(10, mu, sigma)"
   ]
  },
  {
   "cell_type": "code",
   "execution_count": 6,
   "id": "3f2f803b-5473-45d3-afb4-9a85b4bbf48e",
   "metadata": {},
   "outputs": [
    {
     "data": {
      "text/plain": [
       "np.float64(0.02275013194817921)"
      ]
     },
     "execution_count": 6,
     "metadata": {},
     "output_type": "execute_result"
    }
   ],
   "source": [
    "# La probabilidad de P(X>12)\n",
    "1 - stats.norm.cdf(12, mu, sigma)"
   ]
  },
  {
   "cell_type": "markdown",
   "id": "9167155d-e69d-46ff-8c3a-f9cf07daf548",
   "metadata": {},
   "source": [
    "## Peso recién nacidos (EEUU - 2018)"
   ]
  },
  {
   "cell_type": "code",
   "execution_count": 7,
   "id": "e0440172-1c1e-4548-936a-1f66eca31ac4",
   "metadata": {},
   "outputs": [],
   "source": [
    "import pandas as pd"
   ]
  },
  {
   "cell_type": "code",
   "execution_count": 8,
   "id": "1f86f0c5-3fc5-4164-ad34-8e0f34846400",
   "metadata": {},
   "outputs": [],
   "source": [
    "# https://www.cdc.gov/nchs/data_access/vitalstatsonline.htm#Tools\n",
    "# descarga de los datos\n",
    "url_us_2018=\"https://raw.githubusercontent.com/NechuBM/dataset/main/nacimientos_us_2018.csv\"\n",
    "!wget {url_us_2018} -q -O nacimientos_us_2018.csv\n",
    "\n",
    "df = pd.read_csv('nacimientos_us_2018.csv', sep=\",\")"
   ]
  },
  {
   "cell_type": "code",
   "execution_count": 9,
   "id": "05ff172d-94d2-49a4-856e-47ebc10df5ff",
   "metadata": {},
   "outputs": [
    {
     "data": {
      "text/plain": [
       "(15000, 56)"
      ]
     },
     "execution_count": 9,
     "metadata": {},
     "output_type": "execute_result"
    }
   ],
   "source": [
    "df.shape"
   ]
  },
  {
   "cell_type": "code",
   "execution_count": 10,
   "id": "b8cc4938-fb48-40ec-be60-36cb5ea1628c",
   "metadata": {},
   "outputs": [
    {
     "data": {
      "text/plain": [
       "array([3655, 3520, 2920])"
      ]
     },
     "execution_count": 10,
     "metadata": {},
     "output_type": "execute_result"
    }
   ],
   "source": [
    "peso = df['DBWT'].to_numpy()\n",
    "peso[:3]"
   ]
  },
  {
   "cell_type": "markdown",
   "id": "dd1ffe58-29b9-44cb-b718-cb40133e4250",
   "metadata": {},
   "source": [
    "Ejercicio\n",
    "¿Cuál es el valor del parámetro μ?"
   ]
  },
  {
   "cell_type": "code",
   "execution_count": 11,
   "id": "fa93795f-b39f-453d-ac1c-faaabd10ec82",
   "metadata": {},
   "outputs": [
    {
     "data": {
      "text/plain": [
       "count    15000.000000\n",
       "mean      3257.014867\n",
       "std        611.601949\n",
       "min        240.000000\n",
       "25%       2957.750000\n",
       "50%       3289.000000\n",
       "75%       3615.000000\n",
       "max       9999.000000\n",
       "Name: DBWT, dtype: float64"
      ]
     },
     "execution_count": 11,
     "metadata": {},
     "output_type": "execute_result"
    }
   ],
   "source": [
    "df['DBWT'].describe()"
   ]
  },
  {
   "cell_type": "code",
   "execution_count": 12,
   "id": "1b7aa798-a9ea-4240-b21e-dbfe5f8f6d5a",
   "metadata": {},
   "outputs": [],
   "source": [
    "mu = peso.mean()"
   ]
  },
  {
   "cell_type": "markdown",
   "id": "5645d1e8-2375-4058-a1ff-45f2d98a6b2d",
   "metadata": {},
   "source": [
    "¿Cuál es el valor del parámetro σ?"
   ]
  },
  {
   "cell_type": "code",
   "execution_count": 13,
   "id": "803b1004-85e4-487a-8b46-08d636cf24bf",
   "metadata": {},
   "outputs": [],
   "source": [
    "std = peso.std()"
   ]
  },
  {
   "cell_type": "markdown",
   "id": "f2620a20-7661-4769-8ee4-dc02ba47ae45",
   "metadata": {},
   "source": [
    "Crea un histograma con la distribución del peso de un recién nacido"
   ]
  },
  {
   "cell_type": "code",
   "execution_count": 14,
   "id": "a9d0bfff-568d-4a07-810e-f40544c94065",
   "metadata": {},
   "outputs": [
    {
     "data": {
      "text/plain": [
       "<matplotlib.lines.Line2D at 0x7db25c559250>"
      ]
     },
     "execution_count": 14,
     "metadata": {},
     "output_type": "execute_result"
    },
    {
     "data": {
      "image/png": "[encoded data removed]",
      "text/plain": [
       "<Figure size 640x480 with 1 Axes>"
      ]
     },
     "metadata": {},
     "output_type": "display_data"
    }
   ],
   "source": [
    "import matplotlib.pyplot as plt\n",
    "\n",
    "fig, axs = plt.subplots(1, 1, sharey=True, tight_layout=True)\n",
    "axs.hist(peso, bins=20, density=True)\n",
    "axs.axvline(x=mu, color='orange')"
   ]
  },
  {
   "cell_type": "markdown",
   "id": "fc12e1e2-5b8e-4b3c-86e8-80300efefb73",
   "metadata": {},
   "source": [
    "Representa gráficamente una distribución normal con los parámetros obtenidos donde los valores de X se encuentran en el rango 1000-5000"
   ]
  },
  {
   "cell_type": "code",
   "execution_count": 15,
   "id": "65fb2dde-1e87-4b38-bbe8-99d87867b6f6",
   "metadata": {},
   "outputs": [
    {
     "data": {
      "text/plain": [
       "<matplotlib.lines.Line2D at 0x7db251165650>"
      ]
     },
     "execution_count": 15,
     "metadata": {},
     "output_type": "execute_result"
    },
    {
     "data": {
      "image/png": "[encoded data removed]",
      "text/plain": [
       "<Figure size 640x480 with 1 Axes>"
      ]
     },
     "metadata": {},
     "output_type": "display_data"
    }
   ],
   "source": [
    "peso_filtro = peso[(peso >= 1000) & (peso <= 5000)]\n",
    "\n",
    "fig, axs = plt.subplots(1, 1, sharey=True, tight_layout=True)\n",
    "axs.hist(peso_filtro, bins=20, density=True)\n",
    "axs.axvline(x=mu, color='orange')"
   ]
  },
  {
   "cell_type": "code",
   "execution_count": 20,
   "id": "14f428b5-c175-41f7-9b71-e5f62aa2f571",
   "metadata": {},
   "outputs": [],
   "source": [
    "x_inf = 1000\n",
    "x_sup = 5000\n",
    "x = np.linspace(x_inf, x_sup, 400)"
   ]
  },
  {
   "cell_type": "code",
   "execution_count": 22,
   "id": "fdbbf458-6e33-4fbe-a2dc-ffab4559498b",
   "metadata": {},
   "outputs": [],
   "source": [
    "y = stats.norm.pdf(x, mu, std)"
   ]
  },
  {
   "cell_type": "code",
   "execution_count": 26,
   "id": "3a79239d-db93-4f97-9908-41c8133af889",
   "metadata": {},
   "outputs": [
    {
     "data": {
      "text/plain": [
       "(array([1.41182320e-05, 1.81520125e-05, 2.18496447e-05, 2.75641672e-05,\n",
       "        4.13462507e-05, 7.49610887e-05, 1.16979636e-04, 1.88579241e-04,\n",
       "        3.22366296e-04, 5.29433698e-04, 7.63729119e-04, 8.21210492e-04,\n",
       "        7.84570319e-04, 5.31786737e-04, 3.70099366e-04, 2.05386660e-04,\n",
       "        1.05214443e-04, 4.10101024e-05, 2.05050512e-05, 7.39526436e-06]),\n",
       " array([1005.  , 1204.75, 1404.5 , 1604.25, 1804.  , 2003.75, 2203.5 ,\n",
       "        2403.25, 2603.  , 2802.75, 3002.5 , 3202.25, 3402.  , 3601.75,\n",
       "        3801.5 , 4001.25, 4201.  , 4400.75, 4600.5 , 4800.25, 5000.  ]),\n",
       " <BarContainer object of 20 artists>)"
      ]
     },
     "execution_count": 26,
     "metadata": {},
     "output_type": "execute_result"
    },
    {
     "data": {
      "image/png": "[encoded data removed]",
      "text/plain": [
       "<Figure size 640x480 with 1 Axes>"
      ]
     },
     "metadata": {},
     "output_type": "display_data"
    }
   ],
   "source": [
    "plt.plot(x,y)\n",
    "plt.axvline(x=mu, color='orange')\n",
    "plt.hist(peso_filtro, bins=20, density=True)"
   ]
  },
  {
   "cell_type": "markdown",
   "id": "2cf44881-5de8-49dc-8b79-a8579899b572",
   "metadata": {},
   "source": [
    "¿Cual es la densidad de la probabilidad para x=3300g?"
   ]
  },
  {
   "cell_type": "code",
   "execution_count": 16,
   "id": "ce2585e5-4266-49dd-926f-25f235539ba4",
   "metadata": {},
   "outputs": [
    {
     "data": {
      "text/plain": [
       "np.float64(0.0006507032454761815)"
      ]
     },
     "execution_count": 16,
     "metadata": {},
     "output_type": "execute_result"
    }
   ],
   "source": [
    "stats.norm.pdf(3300, mu, std)"
   ]
  },
  {
   "cell_type": "markdown",
   "id": "247864ed-5ba3-4494-a081-404388f7dd42",
   "metadata": {},
   "source": [
    "¿Cual es la probabilidad de que un recien nacido tenga un peso inferior o igual a 3300g?"
   ]
  },
  {
   "cell_type": "code",
   "execution_count": 17,
   "id": "8137d0d5-aeaa-48cb-b103-6f487c1c3501",
   "metadata": {},
   "outputs": [
    {
     "data": {
      "text/plain": [
       "np.float64(0.5280166695924577)"
      ]
     },
     "execution_count": 17,
     "metadata": {},
     "output_type": "execute_result"
    }
   ],
   "source": [
    "stats.norm.cdf(3300, mu, std)"
   ]
  },
  {
   "cell_type": "markdown",
   "id": "cb710a6d-e3ac-45c5-bac1-7a36e3a2f15b",
   "metadata": {},
   "source": [
    "¿Cual es la probabilidad de que un recien nacido tenga un peso superior a 4000g?"
   ]
  },
  {
   "cell_type": "code",
   "execution_count": 18,
   "id": "a16fa6ee-28d4-4012-88ac-6bb1fda900bb",
   "metadata": {},
   "outputs": [
    {
     "data": {
      "text/plain": [
       "np.float64(0.11221000881985832)"
      ]
     },
     "execution_count": 18,
     "metadata": {},
     "output_type": "execute_result"
    }
   ],
   "source": [
    "1 - stats.norm.cdf(4000, mu, std)"
   ]
  }
 ],
 "metadata": {
  "kernelspec": {
   "display_name": "Python 3 (ipykernel)",
   "language": "python",
   "name": "python3"
  },
  "language_info": {
   "codemirror_mode": {
    "name": "ipython",
    "version": 3
   },
   "file_extension": ".py",
   "mimetype": "text/x-python",
   "name": "python",
   "nbconvert_exporter": "python",
   "pygments_lexer": "ipython3",
   "version": "3.11.13"
  }
 },
 "nbformat": 4,
 "nbformat_minor": 5
}
