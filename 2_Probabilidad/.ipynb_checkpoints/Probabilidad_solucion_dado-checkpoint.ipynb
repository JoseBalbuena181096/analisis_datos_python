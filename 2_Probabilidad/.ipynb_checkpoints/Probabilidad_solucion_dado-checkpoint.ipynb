{
 "cells": [
  {
   "cell_type": "markdown",
   "id": "0640378a-6376-4630-8f4e-86d840ca8a2a",
   "metadata": {},
   "source": [
    "## Probabilidad"
   ]
  },
  {
   "cell_type": "markdown",
   "id": "f3ee62d4-1ed8-4223-baec-aa697f4b52bd",
   "metadata": {},
   "source": [
    "## Ejercicio dado"
   ]
  },
  {
   "cell_type": "code",
   "execution_count": 1,
   "id": "2169cca3-1488-4b6d-ad1a-6e257b15ce63",
   "metadata": {},
   "outputs": [],
   "source": [
    "import numpy as np\n",
    "import random"
   ]
  },
  {
   "cell_type": "code",
   "execution_count": 2,
   "id": "faf54a7f-095f-4cf6-bcf1-96670623d94e",
   "metadata": {},
   "outputs": [],
   "source": [
    "# Para simular el dado\n",
    "numero_experimentos_dado = 10000\n",
    "# np.random.randint(1,7)\n",
    "resultado_dado = np.random.choice([1,2,3,4,5,6], p=[1/6,1/6,1/6,1/6,1/6,1/6], size=numero_experimentos_dado)"
   ]
  },
  {
   "cell_type": "code",
   "execution_count": 3,
   "id": "dea91900-f71b-4389-9c2a-b5d378fb5356",
   "metadata": {},
   "outputs": [
    {
     "name": "stdout",
     "output_type": "stream",
     "text": [
      "0.1596\n"
     ]
    }
   ],
   "source": [
    "# calcular la probabilidad de 3\n",
    "dado_tres = np.count_nonzero(resultado_dado == 3)\n",
    "proporcion_tres = dado_tres / numero_experimentos_dado\n",
    "print(proporcion_tres)"
   ]
  },
  {
   "cell_type": "markdown",
   "id": "18d1be28-3b6f-44ac-b48c-a735e95f8520",
   "metadata": {},
   "source": [
    "¿Cuál es la probabilidad que salga el número 3 cuando realizamos dos lanzamientos?, sigue siendo 1/6"
   ]
  },
  {
   "cell_type": "code",
   "execution_count": 4,
   "id": "a5e6b78d-b2a4-44ad-9a5f-aa15b4d63a8d",
   "metadata": {},
   "outputs": [
    {
     "data": {
      "text/plain": [
       "array([6, 3])"
      ]
     },
     "execution_count": 4,
     "metadata": {},
     "output_type": "execute_result"
    }
   ],
   "source": [
    "np.random.randint(1,7, size=2)"
   ]
  },
  {
   "cell_type": "markdown",
   "id": "a601e03a-3b65-4543-8553-3ebe4868cc23",
   "metadata": {},
   "source": [
    "Realiza dos lanzamientos del dado y guarda el resultado en una variable. Compara con el resultado anterior"
   ]
  },
  {
   "cell_type": "code",
   "execution_count": 5,
   "id": "ab519c90-6910-4f5c-b4a3-a2578ae07896",
   "metadata": {},
   "outputs": [
    {
     "data": {
      "text/plain": [
       "array([6, 3])"
      ]
     },
     "execution_count": 5,
     "metadata": {},
     "output_type": "execute_result"
    }
   ],
   "source": [
    "lanzar_dos_veces = np.random.randint(1,7, size=2)\n",
    "lanzar_dos_veces"
   ]
  },
  {
   "cell_type": "markdown",
   "id": "c054017c-7a6d-4658-891d-363a3dd3589c",
   "metadata": {},
   "source": [
    "Parece que número obtenido no se acerca al resultado calculado, ¿Porqué ocurre esto?\n",
    "- Porque son pocos lanzamientos, para que se parezaca debe cumplir con la ley de los grandes numeros, es decir a una mayor cantidad de lanzamientos la probabilidad teorica, tendera a acercarce a la probabilidad experimental"
   ]
  },
  {
   "cell_type": "markdown",
   "id": "11d70074-c298-49e7-977c-da5f83238089",
   "metadata": {},
   "source": [
    "¿Cuál es la probabilidad de obtener un número par? Comprueba el resultado obtenido tras 20000 lanzamientos"
   ]
  },
  {
   "cell_type": "code",
   "execution_count": 6,
   "id": "3232339c-2587-46ea-9521-805d11b4e262",
   "metadata": {},
   "outputs": [],
   "source": [
    "# Para simular el dado\n",
    "numero_experimentos_dado = 20000\n",
    "# np.random.randint(1,7)\n",
    "resultado_dado = np.random.choice([1,2,3,4,5,6], p=[1/6,1/6,1/6,1/6,1/6,1/6], size=numero_experimentos_dado)"
   ]
  },
  {
   "cell_type": "code",
   "execution_count": 7,
   "id": "dc66718c-a2cb-43d9-8d3f-a3e05b3f498e",
   "metadata": {},
   "outputs": [
    {
     "name": "stdout",
     "output_type": "stream",
     "text": [
      "0.498\n"
     ]
    }
   ],
   "source": [
    "dado_dos = np.count_nonzero(resultado_dado == 2)\n",
    "dado_cuatro = np.count_nonzero(resultado_dado == 4)\n",
    "dado_seis = np.count_nonzero(resultado_dado == 6)\n",
    "proporcion_par = (dado_dos + dado_cuatro + dado_seis) / numero_experimentos_dado\n",
    "print(proporcion_par)"
   ]
  },
  {
   "cell_type": "markdown",
   "id": "065075aa-2ed9-4c33-a1bf-16ed23cc6fa9",
   "metadata": {},
   "source": [
    "¿Cuál es la probabilidad de obtener un número impar? Comprueba el resultado obtenido tras 20000 lanzamientos"
   ]
  },
  {
   "cell_type": "code",
   "execution_count": 8,
   "id": "7ddc1b7c-ae58-4cdd-9b49-d13a1a01f588",
   "metadata": {},
   "outputs": [
    {
     "name": "stdout",
     "output_type": "stream",
     "text": [
      "0.50145\n"
     ]
    }
   ],
   "source": [
    "dado_uno = np.count_nonzero(resultado_dado == 1)\n",
    "dado_tres = np.count_nonzero(resultado_dado == 3)\n",
    "dado_cinco = np.count_nonzero(resultado_dado == 5)\n",
    "proporcion_impar = (dado_uno + dado_dos + dado_tres) / numero_experimentos_dado\n",
    "print(proporcion_impar)"
   ]
  },
  {
   "cell_type": "code",
   "execution_count": null,
   "id": "cbe6b33b-7401-432c-bcbc-fb4335937e24",
   "metadata": {},
   "outputs": [],
   "source": []
  }
 ],
 "metadata": {
  "kernelspec": {
   "display_name": "Python 3 (ipykernel)",
   "language": "python",
   "name": "python3"
  },
  "language_info": {
   "codemirror_mode": {
    "name": "ipython",
    "version": 3
   },
   "file_extension": ".py",
   "mimetype": "text/x-python",
   "name": "python",
   "nbconvert_exporter": "python",
   "pygments_lexer": "ipython3",
   "version": "3.11.13"
  }
 },
 "nbformat": 4,
 "nbformat_minor": 5
}
