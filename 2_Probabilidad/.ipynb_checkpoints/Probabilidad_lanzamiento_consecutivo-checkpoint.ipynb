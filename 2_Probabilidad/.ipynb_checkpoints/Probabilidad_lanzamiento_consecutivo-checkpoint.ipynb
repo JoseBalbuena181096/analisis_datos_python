{
  "nbformat": 4,
  "nbformat_minor": 0,
  "metadata": {
    "colab": {
      "provenance": [],
      "collapsed_sections": [
        "srlKvj4ISqEI",
        "pFSbWirj6dvW",
        "gOXys6pL6g-k"
      ]
    },
    "kernelspec": {
      "name": "python3",
      "display_name": "Python 3"
    },
    "language_info": {
      "name": "python"
    }
  },
  "cells": [
    {
      "cell_type": "markdown",
      "source": [
        "# Probabilidad"
      ],
      "metadata": {
        "id": "Z_VJweoK_V66"
      }
    },
    {
      "cell_type": "markdown",
      "source": [
        "# Lanzamientos Consecutivos"
      ],
      "metadata": {
        "id": "srlKvj4ISqEI"
      }
    },
    {
      "cell_type": "markdown",
      "source": [
        "Tenemos una moneda trucada de la siguiente forma:\n",
        "\n",
        "*   P(c): 0,6\n",
        "*   P(x): 0,4\n",
        "\n",
        "Vamos a realizar dos lanzamientos consecutivos y queremos calcular la probabilidade de los diferentes resultados. Primero dibujamos el arbol de probabilidades:\n",
        "\n",
        "![](https://drive.google.com/uc?id=1Aq7FtzqrfapvISg4niCvBXJgW3_Tgdpu)\n",
        "\n",
        "Para facilitarnos el trabajo creamos también la siguiente tabla:\n",
        "\n",
        "![](https://drive.google.com/uc?id=1Ar04E2ccnsZlKV7VRAS74u81YP5aFMEH)\n",
        "\n"
      ],
      "metadata": {
        "id": "ugu0mVUIZU4V"
      }
    },
    {
      "cell_type": "markdown",
      "source": [
        "En las imágenes podemos ver escrito repetidas veces 'Resp.' junto a un número. Cada número está relacionado con una de las preguntas más abajo. Selecciona la respuesta correcta para completar las imágenes."
      ],
      "metadata": {
        "id": "0uhe_5bo2yjN"
      }
    },
    {
      "cell_type": "code",
      "source": [
        "#@markdown Resp.1\n",
        "respuesta = '' #@param [\"0,36\", \"0,4\", \"0,5\", \"0,6\"] {allow-input: true}\n",
        "\n",
        "# correcion de la respuesta\n",
        "def solucion(opcion):\n",
        "  if opcion == '0,6':\n",
        "    print('¡Respuesta correcta! ')\n",
        "  elif opcion == '0,5':\n",
        "    print('Respuesta incorrecta')\n",
        "  elif opcion == '0,4':\n",
        "    print('Respuesta incorrecta')\n",
        "  elif opcion == '0,36':\n",
        "    print('Respuesta incorrecta')\n",
        "  else:\n",
        "    print('Selecciona una de las respuestas del desplegable')\n",
        "\n",
        "solucion(respuesta)\n",
        "print(f\"\\n \\n Si deseas comprobar otra solución es necesario que ejecutes de nuevo la celda\")"
      ],
      "metadata": {
        "cellView": "form",
        "id": "EW-ejSbJcYGV"
      },
      "execution_count": null,
      "outputs": []
    },
    {
      "cell_type": "code",
      "source": [
        "#@markdown Resp.2\n",
        "respuesta = '' #@param [\"0,36\", \"0,4\", \"0,16\", \"0,6\"] {allow-input: true}\n",
        "\n",
        "# correcion de la respuesta\n",
        "def solucion(opcion):\n",
        "  if opcion == '0,4':\n",
        "    print('¡Respuesta correcta! ')\n",
        "  elif opcion == '0,16':\n",
        "    print('Respuesta incorrecta')\n",
        "  elif opcion == '0,6':\n",
        "    print('Respuesta incorrecta')\n",
        "  elif opcion == '0,36':\n",
        "    print('Respuesta incorrecta')\n",
        "  else:\n",
        "    print('Selecciona una de las respuestas del desplegable')\n",
        "\n",
        "solucion(respuesta)\n",
        "print(f\"\\n \\n Si deseas comprobar otra solución es necesario que ejecutes de nuevo la celda\")"
      ],
      "metadata": {
        "cellView": "form",
        "id": "XcWQHecBcX9A"
      },
      "execution_count": null,
      "outputs": []
    },
    {
      "cell_type": "code",
      "source": [
        "#@markdown Resp.3\n",
        "respuesta = '' #@param [\"c (cara)\", \"0,5\", \"x (cruz)\", \"0,6\"] {allow-input: true}\n",
        "\n",
        "# correcion de la respuesta\n",
        "def solucion(opcion):\n",
        "  if opcion == 'x (cruz)':\n",
        "    print('¡Respuesta correcta! ')\n",
        "  else:\n",
        "    print('Respuesta incorrecta')\n",
        "\n",
        "solucion(respuesta)\n",
        "print(f\"\\n \\n Si deseas comprobar otra solución es necesario que ejecutes de nuevo la celda\")"
      ],
      "metadata": {
        "cellView": "form",
        "id": "O5ILLFD7cX1P"
      },
      "execution_count": null,
      "outputs": []
    },
    {
      "cell_type": "code",
      "source": [
        "#@markdown Resp.4\n",
        "respuesta = '' #@param [\"c (cara)\", \"0,5\", \"x (cruz)\", \"0,6\"] {allow-input: true}\n",
        "\n",
        "# correcion de la respuesta\n",
        "def solucion(opcion):\n",
        "  if opcion == 'x (cruz)':\n",
        "    print('¡Respuesta correcta! ')\n",
        "  else:\n",
        "    print('Respuesta incorrecta')\n",
        "\n",
        "solucion(respuesta)\n",
        "print(f\"\\n \\n Si deseas comprobar otra solución es necesario que ejecutes de nuevo la celda\")"
      ],
      "metadata": {
        "id": "--4lCtMacXtu",
        "cellView": "form"
      },
      "execution_count": null,
      "outputs": []
    },
    {
      "cell_type": "code",
      "source": [
        "#@markdown Resp.5\n",
        "respuesta = '' #@param [\"0,36\", \"0,6\", \"0,4\", \"0,16\"] {allow-input: true}\n",
        "\n",
        "# correcion de la respuesta\n",
        "def solucion(opcion):\n",
        "  if opcion == '0,36':\n",
        "    print('¡Respuesta correcta! ')\n",
        "  else:\n",
        "    print('Respuesta incorrecta')\n",
        "\n",
        "solucion(respuesta)\n",
        "print(f\"\\n \\n Si deseas comprobar otra solución es necesario que ejecutes de nuevo la celda\")"
      ],
      "metadata": {
        "id": "YY0Fz6tScXjT",
        "cellView": "form"
      },
      "execution_count": null,
      "outputs": []
    },
    {
      "cell_type": "code",
      "source": [
        "#@markdown Resp.6\n",
        "respuesta = '' #@param [\"0,36\", \"0,6\", \"0,24\", \"0,16\"] {allow-input: true}\n",
        "\n",
        "# correcion de la respuesta\n",
        "def solucion(opcion):\n",
        "  if opcion == '0,24':\n",
        "    print('¡Respuesta correcta! ')\n",
        "  else:\n",
        "    print('Respuesta incorrecta')\n",
        "\n",
        "solucion(respuesta)\n",
        "print(f\"\\n \\n Si deseas comprobar otra solución es necesario que ejecutes de nuevo la celda\")"
      ],
      "metadata": {
        "id": "7D4KhPtycW0g",
        "cellView": "form"
      },
      "execution_count": null,
      "outputs": []
    }
  ]
}