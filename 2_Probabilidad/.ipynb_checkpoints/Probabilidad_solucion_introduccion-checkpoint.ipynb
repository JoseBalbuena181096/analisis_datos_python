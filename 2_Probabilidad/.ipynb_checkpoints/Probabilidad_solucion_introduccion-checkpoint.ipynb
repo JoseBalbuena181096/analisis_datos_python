{
 "cells": [
  {
   "cell_type": "markdown",
   "id": "0640378a-6376-4630-8f4e-86d840ca8a2a",
   "metadata": {},
   "source": [
    "## Probabilidad"
   ]
  },
  {
   "cell_type": "markdown",
   "id": "f3ee62d4-1ed8-4223-baec-aa697f4b52bd",
   "metadata": {},
   "source": [
    "## Ejercicio moneda"
   ]
  },
  {
   "cell_type": "code",
   "execution_count": 1,
   "id": "2169cca3-1488-4b6d-ad1a-6e257b15ce63",
   "metadata": {},
   "outputs": [],
   "source": [
    "import numpy as np\n",
    "import random"
   ]
  },
  {
   "cell_type": "code",
   "execution_count": 2,
   "id": "72878eb8-1f31-4d87-9d54-546f49e52c00",
   "metadata": {},
   "outputs": [
    {
     "data": {
      "text/plain": [
       "3"
      ]
     },
     "execution_count": 2,
     "metadata": {},
     "output_type": "execute_result"
    }
   ],
   "source": [
    "np.random.randint(4) # un numero entre 0 y 3, el 4 no esta incluido"
   ]
  },
  {
   "cell_type": "code",
   "execution_count": 3,
   "id": "faf54a7f-095f-4cf6-bcf1-96670623d94e",
   "metadata": {},
   "outputs": [
    {
     "name": "stdout",
     "output_type": "stream",
     "text": [
      "Resultado lanzamiento aleatorio moneda [1 1 1 ... 1 0 1]\n"
     ]
    }
   ],
   "source": [
    "# Para simular la moneda tendremos 2 valores, 0 cara 1 cruz\n",
    "numero_experimentos = 100000\n",
    "# podemos simular una cantidad determinada de valores, en este caso 6 lanzamientos\n",
    "resultado = np.random.randint(2, size=numero_experimentos)\n",
    "print(f'Resultado lanzamiento aleatorio moneda {resultado}')"
   ]
  },
  {
   "cell_type": "code",
   "execution_count": 4,
   "id": "dea91900-f71b-4389-9c2a-b5d378fb5356",
   "metadata": {},
   "outputs": [
    {
     "name": "stdout",
     "output_type": "stream",
     "text": [
      "0.499522\n"
     ]
    }
   ],
   "source": [
    "# calcular la cruz\n",
    "cruz = np.count_nonzero(resultado == 1)\n",
    "proporcion_cruz = cruz / numero_experimentos \n",
    "print(proporcion_cruz)"
   ]
  },
  {
   "cell_type": "code",
   "execution_count": 5,
   "id": "39983320-59cd-4d18-9d71-b4dec6945f7d",
   "metadata": {},
   "outputs": [
    {
     "name": "stdout",
     "output_type": "stream",
     "text": [
      "0.500478\n"
     ]
    }
   ],
   "source": [
    "# calcular la cara\n",
    "cara = np.count_nonzero(resultado == 0)\n",
    "proporcion_cara = cara / numero_experimentos \n",
    "print(proporcion_cara)"
   ]
  },
  {
   "cell_type": "code",
   "execution_count": 7,
   "id": "11838c5c-bda9-47fc-868f-3c6dcab8a7ad",
   "metadata": {},
   "outputs": [
    {
     "data": {
      "text/plain": [
       "1000000"
      ]
     },
     "execution_count": 7,
     "metadata": {},
     "output_type": "execute_result"
    }
   ],
   "source": [
    "# evento complementario\n",
    "np.count_nonzero(resultado == 1) + np.count_nonzero(resultado == 0)\n"
   ]
  },
  {
   "cell_type": "code",
   "execution_count": 8,
   "id": "3d576886-5f29-4435-91dc-07f00fa7a263",
   "metadata": {},
   "outputs": [
    {
     "data": {
      "text/plain": [
       "0.499522"
      ]
     },
     "execution_count": 8,
     "metadata": {},
     "output_type": "execute_result"
    }
   ],
   "source": [
    "## probabilidad de cruz que es complementaria de cara\n",
    "1 - np.count_nonzero(resultado == 0) / numero_experimentos"
   ]
  },
  {
   "cell_type": "code",
   "execution_count": null,
   "id": "ee348318-3f23-4a54-b714-b7072fe766a3",
   "metadata": {},
   "outputs": [],
   "source": []
  }
 ],
 "metadata": {
  "kernelspec": {
   "display_name": "Python 3 (ipykernel)",
   "language": "python",
   "name": "python3"
  },
  "language_info": {
   "codemirror_mode": {
    "name": "ipython",
    "version": 3
   },
   "file_extension": ".py",
   "mimetype": "text/x-python",
   "name": "python",
   "nbconvert_exporter": "python",
   "pygments_lexer": "ipython3",
   "version": "3.11.13"
  }
 },
 "nbformat": 4,
 "nbformat_minor": 5
}
