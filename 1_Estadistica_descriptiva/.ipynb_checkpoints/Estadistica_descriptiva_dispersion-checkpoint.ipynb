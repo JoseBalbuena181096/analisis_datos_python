{
 "cells": [
  {
   "cell_type": "markdown",
   "id": "d2c04412-9123-4157-9438-d8d30ca24a36",
   "metadata": {},
   "source": [
    "## Estadistica Descriptiva dispersión"
   ]
  },
  {
   "cell_type": "code",
   "execution_count": 1,
   "id": "493fe344-0dd5-4741-ae27-b4d78bbebfe4",
   "metadata": {},
   "outputs": [],
   "source": [
    "import matplotlib.pyplot as plt\n",
    "import pandas as pd"
   ]
  },
  {
   "cell_type": "code",
   "execution_count": 2,
   "id": "b85c575b-f131-4e12-a5d8-73020f26c427",
   "metadata": {},
   "outputs": [],
   "source": [
    "# descargar el archivo\n",
    "# descarga de archivo\n",
    "url_amz=\"https://raw.githubusercontent.com/NechuBM/dataset/main/precios_amazon.csv\"\n",
    "!wget {url_amz} -q -O precios_amazon.csv\n",
    "url_eth=\"https://raw.githubusercontent.com/NechuBM/dataset/main/precios_ethereum.csv\"\n",
    "!wget {url_eth} -q -O precios_ethereum.csv\n",
    "# fecha de inicio: 2021-02-01\n",
    "# fecha final: 2022-04-01"
   ]
  },
  {
   "cell_type": "markdown",
   "id": "0915b710-0fa7-43a5-b634-134bc289a03e",
   "metadata": {},
   "source": [
    "## Medidas de dispersión"
   ]
  },
  {
   "cell_type": "code",
   "execution_count": 3,
   "id": "b3982371-f3fd-4866-bf47-1166698b12e0",
   "metadata": {},
   "outputs": [],
   "source": [
    "df_amz = pd.read_csv('precios_amazon.csv', sep=';', decimal=',')\n",
    "df_eth = pd.read_csv('precios_ethereum.csv', sep=';', decimal=',')"
   ]
  },
  {
   "cell_type": "code",
   "execution_count": 4,
   "id": "c4017aef-a07c-44ba-8d32-07a26100defe",
   "metadata": {
    "scrolled": true
   },
   "outputs": [
    {
     "data": {
      "text/html": [
       "<div>\n",
       "<style scoped>\n",
       "    .dataframe tbody tr th:only-of-type {\n",
       "        vertical-align: middle;\n",
       "    }\n",
       "\n",
       "    .dataframe tbody tr th {\n",
       "        vertical-align: top;\n",
       "    }\n",
       "\n",
       "    .dataframe thead th {\n",
       "        text-align: right;\n",
       "    }\n",
       "</style>\n",
       "<table border=\"1\" class=\"dataframe\">\n",
       "  <thead>\n",
       "    <tr style=\"text-align: right;\">\n",
       "      <th></th>\n",
       "      <th>Unnamed: 0.1</th>\n",
       "      <th>Unnamed: 0</th>\n",
       "      <th>Date</th>\n",
       "      <th>Open</th>\n",
       "      <th>High</th>\n",
       "      <th>Low</th>\n",
       "      <th>Close</th>\n",
       "      <th>Adj Close</th>\n",
       "      <th>Volume</th>\n",
       "    </tr>\n",
       "  </thead>\n",
       "  <tbody>\n",
       "    <tr>\n",
       "      <th>0</th>\n",
       "      <td>0</td>\n",
       "      <td>0</td>\n",
       "      <td>2021-01-31</td>\n",
       "      <td>1376.823608</td>\n",
       "      <td>1378.916016</td>\n",
       "      <td>1288.501587</td>\n",
       "      <td>1314.986206</td>\n",
       "      <td>1314.986206</td>\n",
       "      <td>25198853581</td>\n",
       "    </tr>\n",
       "    <tr>\n",
       "      <th>1</th>\n",
       "      <td>1</td>\n",
       "      <td>1</td>\n",
       "      <td>2021-02-01</td>\n",
       "      <td>1314.855225</td>\n",
       "      <td>1373.845825</td>\n",
       "      <td>1274.357788</td>\n",
       "      <td>1369.040527</td>\n",
       "      <td>1369.040527</td>\n",
       "      <td>29210670920</td>\n",
       "    </tr>\n",
       "    <tr>\n",
       "      <th>2</th>\n",
       "      <td>2</td>\n",
       "      <td>2</td>\n",
       "      <td>2021-02-02</td>\n",
       "      <td>1369.505127</td>\n",
       "      <td>1542.990967</td>\n",
       "      <td>1362.771240</td>\n",
       "      <td>1515.193726</td>\n",
       "      <td>1515.193726</td>\n",
       "      <td>45437142801</td>\n",
       "    </tr>\n",
       "    <tr>\n",
       "      <th>3</th>\n",
       "      <td>3</td>\n",
       "      <td>3</td>\n",
       "      <td>2021-02-03</td>\n",
       "      <td>1514.769653</td>\n",
       "      <td>1660.909546</td>\n",
       "      <td>1510.010254</td>\n",
       "      <td>1660.909546</td>\n",
       "      <td>1660.909546</td>\n",
       "      <td>41874566399</td>\n",
       "    </tr>\n",
       "    <tr>\n",
       "      <th>4</th>\n",
       "      <td>4</td>\n",
       "      <td>4</td>\n",
       "      <td>2021-02-04</td>\n",
       "      <td>1661.170166</td>\n",
       "      <td>1689.186646</td>\n",
       "      <td>1561.853516</td>\n",
       "      <td>1594.762695</td>\n",
       "      <td>1594.762695</td>\n",
       "      <td>44396871836</td>\n",
       "    </tr>\n",
       "    <tr>\n",
       "      <th>5</th>\n",
       "      <td>5</td>\n",
       "      <td>5</td>\n",
       "      <td>2021-02-05</td>\n",
       "      <td>1594.793335</td>\n",
       "      <td>1756.510986</td>\n",
       "      <td>1594.793335</td>\n",
       "      <td>1718.650879</td>\n",
       "      <td>1718.650879</td>\n",
       "      <td>40108628454</td>\n",
       "    </tr>\n",
       "    <tr>\n",
       "      <th>6</th>\n",
       "      <td>6</td>\n",
       "      <td>6</td>\n",
       "      <td>2021-02-06</td>\n",
       "      <td>1717.797485</td>\n",
       "      <td>1738.314453</td>\n",
       "      <td>1649.068726</td>\n",
       "      <td>1677.846802</td>\n",
       "      <td>1677.846802</td>\n",
       "      <td>39873420648</td>\n",
       "    </tr>\n",
       "    <tr>\n",
       "      <th>7</th>\n",
       "      <td>7</td>\n",
       "      <td>7</td>\n",
       "      <td>2021-02-07</td>\n",
       "      <td>1677.605713</td>\n",
       "      <td>1690.036621</td>\n",
       "      <td>1501.750244</td>\n",
       "      <td>1614.227783</td>\n",
       "      <td>1614.227783</td>\n",
       "      <td>39889440151</td>\n",
       "    </tr>\n",
       "  </tbody>\n",
       "</table>\n",
       "</div>"
      ],
      "text/plain": [
       "   Unnamed: 0.1  Unnamed: 0        Date         Open         High  \\\n",
       "0             0           0  2021-01-31  1376.823608  1378.916016   \n",
       "1             1           1  2021-02-01  1314.855225  1373.845825   \n",
       "2             2           2  2021-02-02  1369.505127  1542.990967   \n",
       "3             3           3  2021-02-03  1514.769653  1660.909546   \n",
       "4             4           4  2021-02-04  1661.170166  1689.186646   \n",
       "5             5           5  2021-02-05  1594.793335  1756.510986   \n",
       "6             6           6  2021-02-06  1717.797485  1738.314453   \n",
       "7             7           7  2021-02-07  1677.605713  1690.036621   \n",
       "\n",
       "           Low        Close    Adj Close       Volume  \n",
       "0  1288.501587  1314.986206  1314.986206  25198853581  \n",
       "1  1274.357788  1369.040527  1369.040527  29210670920  \n",
       "2  1362.771240  1515.193726  1515.193726  45437142801  \n",
       "3  1510.010254  1660.909546  1660.909546  41874566399  \n",
       "4  1561.853516  1594.762695  1594.762695  44396871836  \n",
       "5  1594.793335  1718.650879  1718.650879  40108628454  \n",
       "6  1649.068726  1677.846802  1677.846802  39873420648  \n",
       "7  1501.750244  1614.227783  1614.227783  39889440151  "
      ]
     },
     "execution_count": 4,
     "metadata": {},
     "output_type": "execute_result"
    }
   ],
   "source": [
    "df_eth.head(8)"
   ]
  },
  {
   "cell_type": "code",
   "execution_count": 5,
   "id": "683f30a8-3b89-455f-8b71-813038bbe356",
   "metadata": {},
   "outputs": [
    {
     "data": {
      "text/plain": [
       "295"
      ]
     },
     "execution_count": 5,
     "metadata": {},
     "output_type": "execute_result"
    }
   ],
   "source": [
    "## Cuantos elementos tenemos en el dataframe amz\n",
    "len(df_amz)"
   ]
  },
  {
   "cell_type": "code",
   "execution_count": 6,
   "id": "84b6b922-bf53-41e0-83a8-b4127affbdc7",
   "metadata": {},
   "outputs": [
    {
     "data": {
      "text/plain": [
       "425"
      ]
     },
     "execution_count": 6,
     "metadata": {},
     "output_type": "execute_result"
    }
   ],
   "source": [
    "## Cuantos elementos tenemos en el dataframe eth\n",
    "len(df_eth)"
   ]
  },
  {
   "cell_type": "code",
   "execution_count": 7,
   "id": "2115c7bd-abb2-4659-80db-7fa80e0203ab",
   "metadata": {},
   "outputs": [],
   "source": [
    "## En ethereum si tenemos sabados y domigos cotizando porque es una moneda de cotizacion diaria y amzon sabado y domingo no abren los mercados\n",
    "def descartar_dias(df, days):\n",
    "    \"\"\"Descartar elementos del DataFrame si vienen incluidos en la lista days\"\"\"\n",
    "    # crear copia para no afectar al original\n",
    "    df_discard = df.copy()\n",
    "    # reiniciar el indice\n",
    "    df_discard.reset_index(inplace=True)\n",
    "    # modificar el formato de los datos de la columna 'Date' a datetime\n",
    "    df_discard['Date'] = pd.to_datetime(df_discard['Date'])\n",
    "    # crear una nueva columna con los dias de la semana a partir de la columna 'Date'\n",
    "    df_discard['Day'] = df_discard['Date'].dt.day_name()\n",
    "    # descartar dias que esten la lista 'days'\n",
    "    df_discard = df_discard.loc[~df_discard['Day'].isin(days)]\n",
    "    return df_discard\n",
    "    "
   ]
  },
  {
   "cell_type": "code",
   "execution_count": 8,
   "id": "74dd0c04-12d1-4d7e-b78a-69d63c725cb3",
   "metadata": {},
   "outputs": [
    {
     "data": {
      "text/html": [
       "<div>\n",
       "<style scoped>\n",
       "    .dataframe tbody tr th:only-of-type {\n",
       "        vertical-align: middle;\n",
       "    }\n",
       "\n",
       "    .dataframe tbody tr th {\n",
       "        vertical-align: top;\n",
       "    }\n",
       "\n",
       "    .dataframe thead th {\n",
       "        text-align: right;\n",
       "    }\n",
       "</style>\n",
       "<table border=\"1\" class=\"dataframe\">\n",
       "  <thead>\n",
       "    <tr style=\"text-align: right;\">\n",
       "      <th></th>\n",
       "      <th>index</th>\n",
       "      <th>Unnamed: 0.1</th>\n",
       "      <th>Unnamed: 0</th>\n",
       "      <th>Date</th>\n",
       "      <th>Open</th>\n",
       "      <th>High</th>\n",
       "      <th>Low</th>\n",
       "      <th>Close</th>\n",
       "      <th>Adj Close</th>\n",
       "      <th>Volume</th>\n",
       "      <th>Day</th>\n",
       "    </tr>\n",
       "  </thead>\n",
       "  <tbody>\n",
       "    <tr>\n",
       "      <th>1</th>\n",
       "      <td>1</td>\n",
       "      <td>1</td>\n",
       "      <td>1</td>\n",
       "      <td>2021-02-01</td>\n",
       "      <td>1314.855225</td>\n",
       "      <td>1373.845825</td>\n",
       "      <td>1274.357788</td>\n",
       "      <td>1369.040527</td>\n",
       "      <td>1369.040527</td>\n",
       "      <td>29210670920</td>\n",
       "      <td>Monday</td>\n",
       "    </tr>\n",
       "    <tr>\n",
       "      <th>2</th>\n",
       "      <td>2</td>\n",
       "      <td>2</td>\n",
       "      <td>2</td>\n",
       "      <td>2021-02-02</td>\n",
       "      <td>1369.505127</td>\n",
       "      <td>1542.990967</td>\n",
       "      <td>1362.771240</td>\n",
       "      <td>1515.193726</td>\n",
       "      <td>1515.193726</td>\n",
       "      <td>45437142801</td>\n",
       "      <td>Tuesday</td>\n",
       "    </tr>\n",
       "    <tr>\n",
       "      <th>3</th>\n",
       "      <td>3</td>\n",
       "      <td>3</td>\n",
       "      <td>3</td>\n",
       "      <td>2021-02-03</td>\n",
       "      <td>1514.769653</td>\n",
       "      <td>1660.909546</td>\n",
       "      <td>1510.010254</td>\n",
       "      <td>1660.909546</td>\n",
       "      <td>1660.909546</td>\n",
       "      <td>41874566399</td>\n",
       "      <td>Wednesday</td>\n",
       "    </tr>\n",
       "    <tr>\n",
       "      <th>4</th>\n",
       "      <td>4</td>\n",
       "      <td>4</td>\n",
       "      <td>4</td>\n",
       "      <td>2021-02-04</td>\n",
       "      <td>1661.170166</td>\n",
       "      <td>1689.186646</td>\n",
       "      <td>1561.853516</td>\n",
       "      <td>1594.762695</td>\n",
       "      <td>1594.762695</td>\n",
       "      <td>44396871836</td>\n",
       "      <td>Thursday</td>\n",
       "    </tr>\n",
       "    <tr>\n",
       "      <th>5</th>\n",
       "      <td>5</td>\n",
       "      <td>5</td>\n",
       "      <td>5</td>\n",
       "      <td>2021-02-05</td>\n",
       "      <td>1594.793335</td>\n",
       "      <td>1756.510986</td>\n",
       "      <td>1594.793335</td>\n",
       "      <td>1718.650879</td>\n",
       "      <td>1718.650879</td>\n",
       "      <td>40108628454</td>\n",
       "      <td>Friday</td>\n",
       "    </tr>\n",
       "    <tr>\n",
       "      <th>8</th>\n",
       "      <td>8</td>\n",
       "      <td>8</td>\n",
       "      <td>8</td>\n",
       "      <td>2021-02-08</td>\n",
       "      <td>1613.642212</td>\n",
       "      <td>1770.590820</td>\n",
       "      <td>1571.579956</td>\n",
       "      <td>1746.616821</td>\n",
       "      <td>1746.616821</td>\n",
       "      <td>48012285956</td>\n",
       "      <td>Monday</td>\n",
       "    </tr>\n",
       "    <tr>\n",
       "      <th>9</th>\n",
       "      <td>9</td>\n",
       "      <td>9</td>\n",
       "      <td>9</td>\n",
       "      <td>2021-02-09</td>\n",
       "      <td>1746.926147</td>\n",
       "      <td>1815.963623</td>\n",
       "      <td>1711.620605</td>\n",
       "      <td>1768.035034</td>\n",
       "      <td>1768.035034</td>\n",
       "      <td>44180727529</td>\n",
       "      <td>Tuesday</td>\n",
       "    </tr>\n",
       "    <tr>\n",
       "      <th>10</th>\n",
       "      <td>10</td>\n",
       "      <td>10</td>\n",
       "      <td>10</td>\n",
       "      <td>2021-02-10</td>\n",
       "      <td>1768.039795</td>\n",
       "      <td>1826.696777</td>\n",
       "      <td>1686.542358</td>\n",
       "      <td>1744.243408</td>\n",
       "      <td>1744.243408</td>\n",
       "      <td>41916084617</td>\n",
       "      <td>Wednesday</td>\n",
       "    </tr>\n",
       "    <tr>\n",
       "      <th>11</th>\n",
       "      <td>11</td>\n",
       "      <td>11</td>\n",
       "      <td>11</td>\n",
       "      <td>2021-02-11</td>\n",
       "      <td>1743.714233</td>\n",
       "      <td>1806.539062</td>\n",
       "      <td>1708.679199</td>\n",
       "      <td>1783.797974</td>\n",
       "      <td>1783.797974</td>\n",
       "      <td>36021495262</td>\n",
       "      <td>Thursday</td>\n",
       "    </tr>\n",
       "    <tr>\n",
       "      <th>12</th>\n",
       "      <td>12</td>\n",
       "      <td>12</td>\n",
       "      <td>12</td>\n",
       "      <td>2021-02-12</td>\n",
       "      <td>1783.489136</td>\n",
       "      <td>1861.356934</td>\n",
       "      <td>1744.168945</td>\n",
       "      <td>1843.532593</td>\n",
       "      <td>1843.532593</td>\n",
       "      <td>37905036865</td>\n",
       "      <td>Friday</td>\n",
       "    </tr>\n",
       "  </tbody>\n",
       "</table>\n",
       "</div>"
      ],
      "text/plain": [
       "    index  Unnamed: 0.1  Unnamed: 0       Date         Open         High  \\\n",
       "1       1             1           1 2021-02-01  1314.855225  1373.845825   \n",
       "2       2             2           2 2021-02-02  1369.505127  1542.990967   \n",
       "3       3             3           3 2021-02-03  1514.769653  1660.909546   \n",
       "4       4             4           4 2021-02-04  1661.170166  1689.186646   \n",
       "5       5             5           5 2021-02-05  1594.793335  1756.510986   \n",
       "8       8             8           8 2021-02-08  1613.642212  1770.590820   \n",
       "9       9             9           9 2021-02-09  1746.926147  1815.963623   \n",
       "10     10            10          10 2021-02-10  1768.039795  1826.696777   \n",
       "11     11            11          11 2021-02-11  1743.714233  1806.539062   \n",
       "12     12            12          12 2021-02-12  1783.489136  1861.356934   \n",
       "\n",
       "            Low        Close    Adj Close       Volume        Day  \n",
       "1   1274.357788  1369.040527  1369.040527  29210670920     Monday  \n",
       "2   1362.771240  1515.193726  1515.193726  45437142801    Tuesday  \n",
       "3   1510.010254  1660.909546  1660.909546  41874566399  Wednesday  \n",
       "4   1561.853516  1594.762695  1594.762695  44396871836   Thursday  \n",
       "5   1594.793335  1718.650879  1718.650879  40108628454     Friday  \n",
       "8   1571.579956  1746.616821  1746.616821  48012285956     Monday  \n",
       "9   1711.620605  1768.035034  1768.035034  44180727529    Tuesday  \n",
       "10  1686.542358  1744.243408  1744.243408  41916084617  Wednesday  \n",
       "11  1708.679199  1783.797974  1783.797974  36021495262   Thursday  \n",
       "12  1744.168945  1843.532593  1843.532593  37905036865     Friday  "
      ]
     },
     "execution_count": 8,
     "metadata": {},
     "output_type": "execute_result"
    }
   ],
   "source": [
    "df_eth_week = descartar_dias(df_eth, ['Saturday', 'Sunday'])\n",
    "df_eth_week.head(10)"
   ]
  },
  {
   "cell_type": "code",
   "execution_count": 9,
   "id": "b2d3fb26-f3c3-4c6e-86e1-8af156ae23c2",
   "metadata": {},
   "outputs": [
    {
     "data": {
      "text/plain": [
       "304"
      ]
     },
     "execution_count": 9,
     "metadata": {},
     "output_type": "execute_result"
    }
   ],
   "source": [
    "len(df_eth_week)"
   ]
  },
  {
   "cell_type": "code",
   "execution_count": 10,
   "id": "3f2fb80a-5ff7-48a5-b5c7-ef51b051bf21",
   "metadata": {},
   "outputs": [
    {
     "data": {
      "text/html": [
       "<div>\n",
       "<style scoped>\n",
       "    .dataframe tbody tr th:only-of-type {\n",
       "        vertical-align: middle;\n",
       "    }\n",
       "\n",
       "    .dataframe tbody tr th {\n",
       "        vertical-align: top;\n",
       "    }\n",
       "\n",
       "    .dataframe thead th {\n",
       "        text-align: right;\n",
       "    }\n",
       "</style>\n",
       "<table border=\"1\" class=\"dataframe\">\n",
       "  <thead>\n",
       "    <tr style=\"text-align: right;\">\n",
       "      <th></th>\n",
       "      <th>Date</th>\n",
       "      <th>Open</th>\n",
       "      <th>High</th>\n",
       "      <th>Low</th>\n",
       "      <th>Close</th>\n",
       "      <th>Adj Close</th>\n",
       "      <th>Volume</th>\n",
       "    </tr>\n",
       "  </thead>\n",
       "  <tbody>\n",
       "    <tr>\n",
       "      <th>0</th>\n",
       "      <td>1/2/2021</td>\n",
       "      <td>3242.360107</td>\n",
       "      <td>3350.26001</td>\n",
       "      <td>3235.030029</td>\n",
       "      <td>3342.879883</td>\n",
       "      <td>3342.879883</td>\n",
       "      <td>4160200</td>\n",
       "    </tr>\n",
       "    <tr>\n",
       "      <th>1</th>\n",
       "      <td>2/2/2021</td>\n",
       "      <td>3380.000000</td>\n",
       "      <td>3427.73999</td>\n",
       "      <td>3361.129883</td>\n",
       "      <td>3380.000000</td>\n",
       "      <td>3380.000000</td>\n",
       "      <td>7098600</td>\n",
       "    </tr>\n",
       "    <tr>\n",
       "      <th>2</th>\n",
       "      <td>3/2/2021</td>\n",
       "      <td>3425.010010</td>\n",
       "      <td>3434.00000</td>\n",
       "      <td>3308.620117</td>\n",
       "      <td>3312.530029</td>\n",
       "      <td>3312.530029</td>\n",
       "      <td>7088800</td>\n",
       "    </tr>\n",
       "    <tr>\n",
       "      <th>3</th>\n",
       "      <td>4/2/2021</td>\n",
       "      <td>3330.000000</td>\n",
       "      <td>3347.00000</td>\n",
       "      <td>3277.750000</td>\n",
       "      <td>3331.000000</td>\n",
       "      <td>3331.000000</td>\n",
       "      <td>3670700</td>\n",
       "    </tr>\n",
       "    <tr>\n",
       "      <th>4</th>\n",
       "      <td>5/2/2021</td>\n",
       "      <td>3319.000000</td>\n",
       "      <td>3377.00000</td>\n",
       "      <td>3302.709961</td>\n",
       "      <td>3352.149902</td>\n",
       "      <td>3352.149902</td>\n",
       "      <td>3620800</td>\n",
       "    </tr>\n",
       "  </tbody>\n",
       "</table>\n",
       "</div>"
      ],
      "text/plain": [
       "       Date         Open        High          Low        Close    Adj Close  \\\n",
       "0  1/2/2021  3242.360107  3350.26001  3235.030029  3342.879883  3342.879883   \n",
       "1  2/2/2021  3380.000000  3427.73999  3361.129883  3380.000000  3380.000000   \n",
       "2  3/2/2021  3425.010010  3434.00000  3308.620117  3312.530029  3312.530029   \n",
       "3  4/2/2021  3330.000000  3347.00000  3277.750000  3331.000000  3331.000000   \n",
       "4  5/2/2021  3319.000000  3377.00000  3302.709961  3352.149902  3352.149902   \n",
       "\n",
       "    Volume  \n",
       "0  4160200  \n",
       "1  7098600  \n",
       "2  7088800  \n",
       "3  3670700  \n",
       "4  3620800  "
      ]
     },
     "execution_count": 10,
     "metadata": {},
     "output_type": "execute_result"
    }
   ],
   "source": [
    "df_amz.head()"
   ]
  },
  {
   "cell_type": "code",
   "execution_count": 11,
   "id": "ff8e5152-03ea-4dea-bf24-650b75f97c31",
   "metadata": {},
   "outputs": [],
   "source": [
    "## Nos quedamos con el precio de cierre\n",
    "precios_amz = df_amz['Close'].tolist()\n",
    "precios_eth = df_eth_week['Close'].tolist()"
   ]
  },
  {
   "cell_type": "markdown",
   "id": "5ff0fd98-feaf-42f6-aeac-7e38425c6023",
   "metadata": {},
   "source": [
    "## Medidas de dispersión"
   ]
  },
  {
   "cell_type": "markdown",
   "id": "73cf3b39",
   "metadata": {},
   "source": [
    "### Histograma"
   ]
  },
  {
   "cell_type": "code",
   "execution_count": 12,
   "id": "228b75a3-5ea1-4e09-9345-d234dbdcb2fd",
   "metadata": {},
   "outputs": [],
   "source": [
    "import matplotlib.pyplot as plt"
   ]
  },
  {
   "cell_type": "code",
   "execution_count": 13,
   "id": "b27efc86-9fae-4e3f-837d-6cdd8d6b55bd",
   "metadata": {},
   "outputs": [
    {
     "data": {
      "image/png": "[encoded data removed]",
      "text/plain": [
       "<Figure size 640x480 with 1 Axes>"
      ]
     },
     "metadata": {},
     "output_type": "display_data"
    }
   ],
   "source": [
    "plt.hist(precios_amz)\n",
    "plt.show()"
   ]
  },
  {
   "cell_type": "code",
   "execution_count": 14,
   "id": "9eecd6d2-87a6-4d81-ac96-4c8fdb57b4c3",
   "metadata": {},
   "outputs": [
    {
     "data": {
      "image/png": "[encoded data removed]",
      "text/plain": [
       "<Figure size 1500x500 with 2 Axes>"
      ]
     },
     "metadata": {},
     "output_type": "display_data"
    }
   ],
   "source": [
    "import numpy as np\n",
    "from matplotlib.ticker import MultipleLocator\n",
    "\n",
    "xmin = min(np.min(precios_amz), np.min(precios_eth))\n",
    "xmax = max(np.max(precios_amz), np.max(precios_eth))\n",
    "bins = 20  # ajusta el número de bins si lo necesitas\n",
    "\n",
    "fig, (ax1, ax2) = plt.subplots(nrows=1, ncols=2,  figsize=(15,5))\n",
    "ax1.hist(precios_amz, bins=bins, range=(xmin, xmax))\n",
    "ax2.hist(precios_eth, bins=bins, range=(xmin, xmax))\n",
    "\n",
    "ax1.set_title(\"Precios Amazon\")\n",
    "ax2.set_title(\"Precios Ethereum\")\n",
    "locator = MultipleLocator(500)\n",
    "ax1.xaxis.set_major_locator(locator)\n",
    "ax2.xaxis.set_major_locator(locator)\n",
    "plt.tight_layout()\n"
   ]
  },
  {
   "cell_type": "code",
   "execution_count": 15,
   "id": "4e638142-b2cb-4db9-a931-d83f6c09e48a",
   "metadata": {},
   "outputs": [
    {
     "data": {
      "image/png": "[encoded data removed]",
      "text/plain": [
       "<Figure size 1500x500 with 2 Axes>"
      ]
     },
     "metadata": {},
     "output_type": "display_data"
    }
   ],
   "source": [
    "\n",
    "fig, (ax1, ax2) = plt.subplots(nrows=1, ncols=2, figsize=(15,5))\n",
    "\n",
    "ax1.hist(precios_amz)\n",
    "ax1.set_ylim(0,80)\n",
    "ax1.set_xlim(1200,4900)\n",
    "ax1.set_title(\"Precios Amazon\")\n",
    "\n",
    "ax2.hist(precios_eth)\n",
    "ax2.set_ylim(0,80)\n",
    "ax2.set_xlim(1200,4900)\n",
    "ax2.set_title(\"Precios Ethereum\")\n",
    "fig.suptitle(\"Histograma\")\n",
    "plt.show()"
   ]
  },
  {
   "cell_type": "markdown",
   "id": "fa2654ac-aa24-4cef-982e-edb2099bc686",
   "metadata": {},
   "source": [
    "### Resumen de 5 números"
   ]
  },
  {
   "cell_type": "code",
   "execution_count": 16,
   "id": "1ffbb707-d222-44b6-8d21-00fb38dafb11",
   "metadata": {},
   "outputs": [
    {
     "name": "stdout",
     "output_type": "stream",
     "text": [
      "{'min': 2720.290039, 'q1': 3192.494995, 'median': 3312.530029, 'q3': 3430.170044, 'max': 3731.409912}\n",
      "{'min': 1369.04052734375, 'q1': 2264.2523803710938, 'median': 2885.09033203125, 'q3': 3528.4259033203125, 'max': 4812.08740234375}\n"
     ]
    }
   ],
   "source": [
    "import numpy as np\n",
    "\n",
    "# convertir a numpy array\n",
    "precios_amz_np = np.array(precios_amz)\n",
    "\n",
    "# orbtenemos los 5 números amz\n",
    "q_amz = np.percentile(precios_amz_np, [0, 25, 50, 75, 100], method=\"linear\")\n",
    "cinco_numeros_amz = {\n",
    "    \"min\": float(q_amz[0]),\n",
    "    \"q1\": float(q_amz[1]),\n",
    "    \"median\": float(q_amz[2]),\n",
    "    \"q3\": float(q_amz[3]),\n",
    "    \"max\": float(q_amz[4])\n",
    "}\n",
    "print(cinco_numeros_amz)\n",
    "\n",
    "# convertir a numpy array\n",
    "precios_eth_np = np.array(precios_eth)\n",
    "# orbtenemos los 5 números eth\n",
    "q_eth = np.percentile(precios_eth_np, [0, 25, 50, 75, 100], method=\"linear\")\n",
    "cinco_numeros_eth = {\n",
    "    \"min\": float(q_eth[0]),\n",
    "    \"q1\": float(q_eth[1]),\n",
    "    \"median\": float(q_eth[2]),\n",
    "    \"q3\": float(q_eth[3]),\n",
    "    \"max\": float(q_eth[4])\n",
    "}\n",
    "print(cinco_numeros_eth)"
   ]
  },
  {
   "cell_type": "code",
   "execution_count": 17,
   "id": "57576fa7-edc6-4da8-8385-376b869a88ab",
   "metadata": {},
   "outputs": [
    {
     "data": {
      "image/png": "[encoded data removed]",
      "text/plain": [
       "<Figure size 1500x500 with 2 Axes>"
      ]
     },
     "metadata": {},
     "output_type": "display_data"
    }
   ],
   "source": [
    "fig, (ax1, ax2) = plt.subplots(nrows=1, ncols=2, figsize=(15,5))\n",
    "ax1.boxplot(\n",
    "    [precios_amz_np],\n",
    "    tick_labels=['Amazon'],\n",
    ")\n",
    "ax1.set_ylim(1200, 4900)\n",
    "ax1.set_title(\"Precios Amazon\")\n",
    "\n",
    "ax2.boxplot(\n",
    "    [precios_eth_np],\n",
    "    tick_labels=['Amazon'],\n",
    ")\n",
    "ax2.set_ylim(1200, 4900)\n",
    "ax2.set_title(\"Precios Ethereum\")\n",
    "\n",
    "fig.suptitle(\"Cajas de bigotes\")\n",
    "plt.show()"
   ]
  },
  {
   "cell_type": "code",
   "execution_count": 18,
   "id": "712e3ef6-6b49-49f2-9b40-4e2c6b88d9f8",
   "metadata": {},
   "outputs": [
    {
     "data": {
      "text/html": [
       "<div>\n",
       "<style scoped>\n",
       "    .dataframe tbody tr th:only-of-type {\n",
       "        vertical-align: middle;\n",
       "    }\n",
       "\n",
       "    .dataframe tbody tr th {\n",
       "        vertical-align: top;\n",
       "    }\n",
       "\n",
       "    .dataframe thead th {\n",
       "        text-align: right;\n",
       "    }\n",
       "</style>\n",
       "<table border=\"1\" class=\"dataframe\">\n",
       "  <thead>\n",
       "    <tr style=\"text-align: right;\">\n",
       "      <th></th>\n",
       "      <th>min</th>\n",
       "      <th>q1</th>\n",
       "      <th>median</th>\n",
       "      <th>q3</th>\n",
       "      <th>max</th>\n",
       "    </tr>\n",
       "  </thead>\n",
       "  <tbody>\n",
       "    <tr>\n",
       "      <th>AMZ</th>\n",
       "      <td>2720.290039</td>\n",
       "      <td>3192.494995</td>\n",
       "      <td>3312.530029</td>\n",
       "      <td>3430.170044</td>\n",
       "      <td>3731.409912</td>\n",
       "    </tr>\n",
       "    <tr>\n",
       "      <th>ETH</th>\n",
       "      <td>1369.040527</td>\n",
       "      <td>2264.252380</td>\n",
       "      <td>2885.090332</td>\n",
       "      <td>3528.425903</td>\n",
       "      <td>4812.087402</td>\n",
       "    </tr>\n",
       "  </tbody>\n",
       "</table>\n",
       "</div>"
      ],
      "text/plain": [
       "             min           q1       median           q3          max\n",
       "AMZ  2720.290039  3192.494995  3312.530029  3430.170044  3731.409912\n",
       "ETH  1369.040527  2264.252380  2885.090332  3528.425903  4812.087402"
      ]
     },
     "execution_count": 18,
     "metadata": {},
     "output_type": "execute_result"
    }
   ],
   "source": [
    "## Medidas de dispersion\n",
    "pd.DataFrame(\n",
    "    [[cinco_numeros_amz[\"min\"], cinco_numeros_amz[\"q1\"], cinco_numeros_amz[\"median\"], cinco_numeros_amz[\"q3\"], cinco_numeros_amz[\"max\"]],\n",
    "    [cinco_numeros_eth[\"min\"], cinco_numeros_eth[\"q1\"], cinco_numeros_eth[\"median\"], cinco_numeros_eth[\"q3\"], cinco_numeros_eth[\"max\"]]],\n",
    "    index = [['AMZ', 'ETH']],\n",
    "    columns = [\"min\", \"q1\", \"median\", \"q3\", \"max\"]\n",
    ")"
   ]
  },
  {
   "cell_type": "markdown",
   "id": "86a2e616-1efe-4913-b9f9-5615f7edf4e0",
   "metadata": {},
   "source": [
    "## Valores atipicos"
   ]
  },
  {
   "cell_type": "code",
   "execution_count": 19,
   "id": "a20b63bc-eb58-408b-a827-a66d7d58dcf4",
   "metadata": {},
   "outputs": [
    {
     "name": "stdout",
     "output_type": "stream",
     "text": [
      "237.67504899999994\n"
     ]
    }
   ],
   "source": [
    "# Calculo del Rango intercuantil en amazon\n",
    "iqr_amz = cinco_numeros_amz[\"q3\"] - cinco_numeros_amz[\"q1\"]\n",
    "print(iqr_amz)"
   ]
  },
  {
   "cell_type": "code",
   "execution_count": 20,
   "id": "c57ed45f-84ab-46a4-b868-90a21c6ba02c",
   "metadata": {},
   "outputs": [
    {
     "name": "stdout",
     "output_type": "stream",
     "text": [
      "2835.9824215\n",
      "3786.6826174999997\n"
     ]
    }
   ],
   "source": [
    "# Limite inferior y superior leve\n",
    "lim_inf_amz = cinco_numeros_amz[\"q1\"] - 1.5 * iqr_amz \n",
    "lim_sup_amz = cinco_numeros_amz[\"q3\"] + 1.5 * iqr_amz \n",
    "print(lim_inf_amz)\n",
    "print(lim_sup_amz)"
   ]
  },
  {
   "cell_type": "code",
   "execution_count": 21,
   "id": "3b107716-e7c3-492b-b85a-f05d986c293d",
   "metadata": {},
   "outputs": [
    {
     "name": "stdout",
     "output_type": "stream",
     "text": [
      "{'inferiores': [2799.719971, 2777.449951, 2792.75, 2776.909912, 2749.060059, 2720.290039, 2785.580078], 'superiores': []}\n"
     ]
    }
   ],
   "source": [
    "valores_atipicos_leves_amz = {\n",
    "    'inferiores': [],\n",
    "    'superiores': []\n",
    "}\n",
    "for precio in precios_amz:\n",
    "    if precio > lim_sup_amz:\n",
    "        valores_atipicos_leves_amz['superiores'].append(precio)\n",
    "    elif precio < lim_inf_amz:\n",
    "        valores_atipicos_leves_amz['inferiores'].append(precio)\n",
    "print(valores_atipicos_leves_amz)"
   ]
  },
  {
   "cell_type": "code",
   "execution_count": 22,
   "id": "2169be00-8356-4d59-a364-c613a6a638b8",
   "metadata": {},
   "outputs": [
    {
     "name": "stdout",
     "output_type": "stream",
     "text": [
      "2479.469848\n",
      "4143.195191\n"
     ]
    }
   ],
   "source": [
    "# Limite inferior y superior extremos\n",
    "lim_inf_amz = cinco_numeros_amz[\"q1\"] - 3 * iqr_amz \n",
    "lim_sup_amz = cinco_numeros_amz[\"q3\"] + 3 * iqr_amz \n",
    "print(lim_inf_amz)\n",
    "print(lim_sup_amz)"
   ]
  },
  {
   "cell_type": "code",
   "execution_count": 23,
   "id": "33cfc18a-0d77-4b51-a2b5-98912ea72eac",
   "metadata": {},
   "outputs": [
    {
     "name": "stdout",
     "output_type": "stream",
     "text": [
      "{'inferiores': [], 'superiores': []}\n"
     ]
    }
   ],
   "source": [
    "valores_atipicos_extremos_amz = {\n",
    "    'inferiores': [],\n",
    "    'superiores': []\n",
    "}\n",
    "for precio in precios_amz:\n",
    "    if precio > lim_sup_amz:\n",
    "        valores_atipicos_extremos_amz['superiores'].append(precio)\n",
    "    elif precio < lim_inf_amz:\n",
    "        valores_atipicos_extremos_amz['inferiores'].append(precio)\n",
    "print(valores_atipicos_extremos_amz)"
   ]
  },
  {
   "cell_type": "code",
   "execution_count": 25,
   "id": "611f5105-02dd-4d20-8e29-e6ffe1ad3b4d",
   "metadata": {},
   "outputs": [
    {
     "name": "stdout",
     "output_type": "stream",
     "text": [
      "1264.1735229492188\n"
     ]
    }
   ],
   "source": [
    "# Calculo del Rango intercuantil en eth\n",
    "iqr_eth = cinco_numeros_eth[\"q3\"] - cinco_numeros_eth[\"q1\"]\n",
    "print(iqr_eth)"
   ]
  },
  {
   "cell_type": "code",
   "execution_count": 26,
   "id": "92d77e51-99f7-43dd-a173-1ed4266495c3",
   "metadata": {},
   "outputs": [
    {
     "name": "stdout",
     "output_type": "stream",
     "text": [
      "367.9920959472656\n",
      "5424.686187744141\n"
     ]
    }
   ],
   "source": [
    "# Limite inferior y superior leve\n",
    "lim_inf_eth = cinco_numeros_eth[\"q1\"] - 1.5 * iqr_eth \n",
    "lim_sup_eth = cinco_numeros_eth[\"q3\"] + 1.5 * iqr_eth \n",
    "print(lim_inf_eth)\n",
    "print(lim_sup_eth)"
   ]
  },
  {
   "cell_type": "code",
   "execution_count": 27,
   "id": "f26f212e-8818-41e6-9cb6-8491a229b726",
   "metadata": {},
   "outputs": [
    {
     "name": "stdout",
     "output_type": "stream",
     "text": [
      "{'inferiores': [], 'superiores': []}\n"
     ]
    }
   ],
   "source": [
    "valores_atipicos_leves_eth = {\n",
    "    'inferiores': [],\n",
    "    'superiores': []\n",
    "}\n",
    "for precio in precios_eth:\n",
    "    if precio > lim_sup_eth:\n",
    "        valores_atipicos_leves_eth['superiores'].append(precio)\n",
    "    elif precio < lim_inf_eth:\n",
    "        valores_atipicos_leves_eth['inferiores'].append(precio)\n",
    "print(valores_atipicos_leves_eth)\n",
    "# Ya no se calcula el exteemo porque sino no hay leve menos extremo"
   ]
  },
  {
   "cell_type": "markdown",
   "id": "98e6b380-3b79-4fd0-92a2-41b719d7633f",
   "metadata": {},
   "source": [
    "## Varianza muestral\n",
    "$$\n",
    "s^2 \\;=\\; \\frac{1}{n-1}\\sum_{i=1}^{n}\\bigl(x_i-\\bar{x}\\bigr)^2\n",
    "$$"
   ]
  },
  {
   "cell_type": "markdown",
   "id": "cb029e76-75d6-4eaa-b59b-0c26b655a01d",
   "metadata": {},
   "source": [
    "## Desviación estandar muestral\n",
    "$$\n",
    "s \\;=\\; \\sqrt{\\frac{1}{\\,n-1\\,}\\sum_{i=1}^{n}\\bigl(x_i-\\bar{x}\\bigr)^2}\n",
    "$$\n"
   ]
  },
  {
   "cell_type": "code",
   "execution_count": 37,
   "id": "f0a80cc9-580c-45b2-b062-356b691895b8",
   "metadata": {},
   "outputs": [
    {
     "name": "stdout",
     "output_type": "stream",
     "text": [
      "38841.349197195996\n",
      "197.08208745899765\n"
     ]
    }
   ],
   "source": [
    "## Calcular con python puro la varianza para amz\n",
    "mean_precios_amz = sum(precios_amz)/len(precios_amz)\n",
    "diferencia_cuadrados_precios_amz_mean = [ (precio - mean_precios_amz)**2  for precio in  precios_amz]\n",
    "s2_precios_amz = sum(diferencia_cuadrados_precios_amz_mean)/(len(diferencia_cuadrados_precios_amz_mean)-1)\n",
    "s_precios_amz = s2_precios_amz ** 0.5\n",
    "print(s2_precios_amz)\n",
    "print(s_precios_amz)"
   ]
  },
  {
   "cell_type": "code",
   "execution_count": 36,
   "id": "afba6075-8b7d-4f0d-b415-8dccffb147c8",
   "metadata": {},
   "outputs": [
    {
     "name": "stdout",
     "output_type": "stream",
     "text": [
      "722817.4747446612\n",
      "850.186729339303\n"
     ]
    }
   ],
   "source": [
    "## calcular con numpy \n",
    "import numpy as np\n",
    "\n",
    "precios_eth_np = np.array(precios_eth)\n",
    "s2_precios_eth = np.var(precios_eth_np)\n",
    "s_precios_eth = np.std(precios_eth_np)\n",
    "print(s2_precios_eth)\n",
    "print(s_precios_eth)"
   ]
  }
 ],
 "metadata": {
  "kernelspec": {
   "display_name": "Python 3 (ipykernel)",
   "language": "python",
   "name": "python3"
  },
  "language_info": {
   "codemirror_mode": {
    "name": "ipython",
    "version": 3
   },
   "file_extension": ".py",
   "mimetype": "text/x-python",
   "name": "python",
   "nbconvert_exporter": "python",
   "pygments_lexer": "ipython3",
   "version": "3.11.13"
  }
 },
 "nbformat": 4,
 "nbformat_minor": 5
}
