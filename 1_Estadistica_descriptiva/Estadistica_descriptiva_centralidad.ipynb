{
 "cells": [
  {
   "cell_type": "markdown",
   "id": "d2c04412-9123-4157-9438-d8d30ca24a36",
   "metadata": {},
   "source": [
    "## Estadistica Descriptiva"
   ]
  },
  {
   "cell_type": "code",
   "execution_count": 1,
   "id": "493fe344-0dd5-4741-ae27-b4d78bbebfe4",
   "metadata": {},
   "outputs": [],
   "source": [
    "import matplotlib.pyplot as plt\n",
    "import pandas as pd"
   ]
  },
  {
   "cell_type": "code",
   "execution_count": 2,
   "id": "b85c575b-f131-4e12-a5d8-73020f26c427",
   "metadata": {},
   "outputs": [],
   "source": [
    "# descargar el archivo\n",
    "# descarga de archivo\n",
    "url_amz=\"https://raw.githubusercontent.com/NechuBM/dataset/main/precios_amazon.csv\"\n",
    "!wget {url_amz} -q -O precios_amazon.csv\n",
    "url_eth=\"https://raw.githubusercontent.com/NechuBM/dataset/main/precios_ethereum.csv\"\n",
    "!wget {url_eth} -q -O precios_ethereum.csv\n",
    "# fecha de inicio: 2021-02-01\n",
    "# fecha final: 2022-04-01"
   ]
  },
  {
   "cell_type": "markdown",
   "id": "0915b710-0fa7-43a5-b634-134bc289a03e",
   "metadata": {},
   "source": [
    "## Medidas de tendencia central"
   ]
  },
  {
   "cell_type": "code",
   "execution_count": 3,
   "id": "b3982371-f3fd-4866-bf47-1166698b12e0",
   "metadata": {},
   "outputs": [],
   "source": [
    "df_amz = pd.read_csv('precios_amazon.csv', sep=';', decimal=',')\n",
    "df_eth = pd.read_csv('precios_ethereum.csv', sep=';', decimal=',')"
   ]
  },
  {
   "cell_type": "code",
   "execution_count": 4,
   "id": "c4017aef-a07c-44ba-8d32-07a26100defe",
   "metadata": {
    "scrolled": true
   },
   "outputs": [
    {
     "data": {
      "text/html": [
       "<div>\n",
       "<style scoped>\n",
       "    .dataframe tbody tr th:only-of-type {\n",
       "        vertical-align: middle;\n",
       "    }\n",
       "\n",
       "    .dataframe tbody tr th {\n",
       "        vertical-align: top;\n",
       "    }\n",
       "\n",
       "    .dataframe thead th {\n",
       "        text-align: right;\n",
       "    }\n",
       "</style>\n",
       "<table border=\"1\" class=\"dataframe\">\n",
       "  <thead>\n",
       "    <tr style=\"text-align: right;\">\n",
       "      <th></th>\n",
       "      <th>Unnamed: 0.1</th>\n",
       "      <th>Unnamed: 0</th>\n",
       "      <th>Date</th>\n",
       "      <th>Open</th>\n",
       "      <th>High</th>\n",
       "      <th>Low</th>\n",
       "      <th>Close</th>\n",
       "      <th>Adj Close</th>\n",
       "      <th>Volume</th>\n",
       "    </tr>\n",
       "  </thead>\n",
       "  <tbody>\n",
       "    <tr>\n",
       "      <th>0</th>\n",
       "      <td>0</td>\n",
       "      <td>0</td>\n",
       "      <td>2021-01-31</td>\n",
       "      <td>1376.823608</td>\n",
       "      <td>1378.916016</td>\n",
       "      <td>1288.501587</td>\n",
       "      <td>1314.986206</td>\n",
       "      <td>1314.986206</td>\n",
       "      <td>25198853581</td>\n",
       "    </tr>\n",
       "    <tr>\n",
       "      <th>1</th>\n",
       "      <td>1</td>\n",
       "      <td>1</td>\n",
       "      <td>2021-02-01</td>\n",
       "      <td>1314.855225</td>\n",
       "      <td>1373.845825</td>\n",
       "      <td>1274.357788</td>\n",
       "      <td>1369.040527</td>\n",
       "      <td>1369.040527</td>\n",
       "      <td>29210670920</td>\n",
       "    </tr>\n",
       "    <tr>\n",
       "      <th>2</th>\n",
       "      <td>2</td>\n",
       "      <td>2</td>\n",
       "      <td>2021-02-02</td>\n",
       "      <td>1369.505127</td>\n",
       "      <td>1542.990967</td>\n",
       "      <td>1362.771240</td>\n",
       "      <td>1515.193726</td>\n",
       "      <td>1515.193726</td>\n",
       "      <td>45437142801</td>\n",
       "    </tr>\n",
       "    <tr>\n",
       "      <th>3</th>\n",
       "      <td>3</td>\n",
       "      <td>3</td>\n",
       "      <td>2021-02-03</td>\n",
       "      <td>1514.769653</td>\n",
       "      <td>1660.909546</td>\n",
       "      <td>1510.010254</td>\n",
       "      <td>1660.909546</td>\n",
       "      <td>1660.909546</td>\n",
       "      <td>41874566399</td>\n",
       "    </tr>\n",
       "    <tr>\n",
       "      <th>4</th>\n",
       "      <td>4</td>\n",
       "      <td>4</td>\n",
       "      <td>2021-02-04</td>\n",
       "      <td>1661.170166</td>\n",
       "      <td>1689.186646</td>\n",
       "      <td>1561.853516</td>\n",
       "      <td>1594.762695</td>\n",
       "      <td>1594.762695</td>\n",
       "      <td>44396871836</td>\n",
       "    </tr>\n",
       "    <tr>\n",
       "      <th>5</th>\n",
       "      <td>5</td>\n",
       "      <td>5</td>\n",
       "      <td>2021-02-05</td>\n",
       "      <td>1594.793335</td>\n",
       "      <td>1756.510986</td>\n",
       "      <td>1594.793335</td>\n",
       "      <td>1718.650879</td>\n",
       "      <td>1718.650879</td>\n",
       "      <td>40108628454</td>\n",
       "    </tr>\n",
       "    <tr>\n",
       "      <th>6</th>\n",
       "      <td>6</td>\n",
       "      <td>6</td>\n",
       "      <td>2021-02-06</td>\n",
       "      <td>1717.797485</td>\n",
       "      <td>1738.314453</td>\n",
       "      <td>1649.068726</td>\n",
       "      <td>1677.846802</td>\n",
       "      <td>1677.846802</td>\n",
       "      <td>39873420648</td>\n",
       "    </tr>\n",
       "    <tr>\n",
       "      <th>7</th>\n",
       "      <td>7</td>\n",
       "      <td>7</td>\n",
       "      <td>2021-02-07</td>\n",
       "      <td>1677.605713</td>\n",
       "      <td>1690.036621</td>\n",
       "      <td>1501.750244</td>\n",
       "      <td>1614.227783</td>\n",
       "      <td>1614.227783</td>\n",
       "      <td>39889440151</td>\n",
       "    </tr>\n",
       "  </tbody>\n",
       "</table>\n",
       "</div>"
      ],
      "text/plain": [
       "   Unnamed: 0.1  Unnamed: 0        Date         Open         High  \\\n",
       "0             0           0  2021-01-31  1376.823608  1378.916016   \n",
       "1             1           1  2021-02-01  1314.855225  1373.845825   \n",
       "2             2           2  2021-02-02  1369.505127  1542.990967   \n",
       "3             3           3  2021-02-03  1514.769653  1660.909546   \n",
       "4             4           4  2021-02-04  1661.170166  1689.186646   \n",
       "5             5           5  2021-02-05  1594.793335  1756.510986   \n",
       "6             6           6  2021-02-06  1717.797485  1738.314453   \n",
       "7             7           7  2021-02-07  1677.605713  1690.036621   \n",
       "\n",
       "           Low        Close    Adj Close       Volume  \n",
       "0  1288.501587  1314.986206  1314.986206  25198853581  \n",
       "1  1274.357788  1369.040527  1369.040527  29210670920  \n",
       "2  1362.771240  1515.193726  1515.193726  45437142801  \n",
       "3  1510.010254  1660.909546  1660.909546  41874566399  \n",
       "4  1561.853516  1594.762695  1594.762695  44396871836  \n",
       "5  1594.793335  1718.650879  1718.650879  40108628454  \n",
       "6  1649.068726  1677.846802  1677.846802  39873420648  \n",
       "7  1501.750244  1614.227783  1614.227783  39889440151  "
      ]
     },
     "execution_count": 4,
     "metadata": {},
     "output_type": "execute_result"
    }
   ],
   "source": [
    "df_eth.head(8)"
   ]
  },
  {
   "cell_type": "code",
   "execution_count": 5,
   "id": "683f30a8-3b89-455f-8b71-813038bbe356",
   "metadata": {},
   "outputs": [
    {
     "data": {
      "text/plain": [
       "295"
      ]
     },
     "execution_count": 5,
     "metadata": {},
     "output_type": "execute_result"
    }
   ],
   "source": [
    "## Cuantos elementos tenemos en el dataframe amz\n",
    "len(df_amz)"
   ]
  },
  {
   "cell_type": "code",
   "execution_count": 6,
   "id": "84b6b922-bf53-41e0-83a8-b4127affbdc7",
   "metadata": {},
   "outputs": [
    {
     "data": {
      "text/plain": [
       "425"
      ]
     },
     "execution_count": 6,
     "metadata": {},
     "output_type": "execute_result"
    }
   ],
   "source": [
    "## Cuantos elementos tenemos en el dataframe eth\n",
    "len(df_eth)"
   ]
  },
  {
   "cell_type": "code",
   "execution_count": 7,
   "id": "2115c7bd-abb2-4659-80db-7fa80e0203ab",
   "metadata": {},
   "outputs": [],
   "source": [
    "## En ethereum si tenemos sabados y domigos cotizando porque es una moneda de cotizacion diaria y amzon sabado y domingo no abren los mercados\n",
    "def descartar_dias(df, days):\n",
    "    \"\"\"Descartar elementos del DataFrame si vienen incluidos en la lista days\"\"\"\n",
    "    # crear copia para no afectar al original\n",
    "    df_discard = df.copy()\n",
    "    # reiniciar el indice\n",
    "    df_discard.reset_index(inplace=True)\n",
    "    # modificar el formato de los datos de la columna 'Date' a datetime\n",
    "    df_discard['Date'] = pd.to_datetime(df_discard['Date'])\n",
    "    # crear una nueva columna con los dias de la semana a partir de la columna 'Date'\n",
    "    df_discard['Day'] = df_discard['Date'].dt.day_name()\n",
    "    # descartar dias que esten la lista 'days'\n",
    "    df_discard = df_discard.loc[~df_discard['Day'].isin(days)]\n",
    "    return df_discard\n",
    "    "
   ]
  },
  {
   "cell_type": "code",
   "execution_count": 8,
   "id": "74dd0c04-12d1-4d7e-b78a-69d63c725cb3",
   "metadata": {},
   "outputs": [
    {
     "data": {
      "text/html": [
       "<div>\n",
       "<style scoped>\n",
       "    .dataframe tbody tr th:only-of-type {\n",
       "        vertical-align: middle;\n",
       "    }\n",
       "\n",
       "    .dataframe tbody tr th {\n",
       "        vertical-align: top;\n",
       "    }\n",
       "\n",
       "    .dataframe thead th {\n",
       "        text-align: right;\n",
       "    }\n",
       "</style>\n",
       "<table border=\"1\" class=\"dataframe\">\n",
       "  <thead>\n",
       "    <tr style=\"text-align: right;\">\n",
       "      <th></th>\n",
       "      <th>index</th>\n",
       "      <th>Unnamed: 0.1</th>\n",
       "      <th>Unnamed: 0</th>\n",
       "      <th>Date</th>\n",
       "      <th>Open</th>\n",
       "      <th>High</th>\n",
       "      <th>Low</th>\n",
       "      <th>Close</th>\n",
       "      <th>Adj Close</th>\n",
       "      <th>Volume</th>\n",
       "      <th>Day</th>\n",
       "    </tr>\n",
       "  </thead>\n",
       "  <tbody>\n",
       "    <tr>\n",
       "      <th>1</th>\n",
       "      <td>1</td>\n",
       "      <td>1</td>\n",
       "      <td>1</td>\n",
       "      <td>2021-02-01</td>\n",
       "      <td>1314.855225</td>\n",
       "      <td>1373.845825</td>\n",
       "      <td>1274.357788</td>\n",
       "      <td>1369.040527</td>\n",
       "      <td>1369.040527</td>\n",
       "      <td>29210670920</td>\n",
       "      <td>Monday</td>\n",
       "    </tr>\n",
       "    <tr>\n",
       "      <th>2</th>\n",
       "      <td>2</td>\n",
       "      <td>2</td>\n",
       "      <td>2</td>\n",
       "      <td>2021-02-02</td>\n",
       "      <td>1369.505127</td>\n",
       "      <td>1542.990967</td>\n",
       "      <td>1362.771240</td>\n",
       "      <td>1515.193726</td>\n",
       "      <td>1515.193726</td>\n",
       "      <td>45437142801</td>\n",
       "      <td>Tuesday</td>\n",
       "    </tr>\n",
       "    <tr>\n",
       "      <th>3</th>\n",
       "      <td>3</td>\n",
       "      <td>3</td>\n",
       "      <td>3</td>\n",
       "      <td>2021-02-03</td>\n",
       "      <td>1514.769653</td>\n",
       "      <td>1660.909546</td>\n",
       "      <td>1510.010254</td>\n",
       "      <td>1660.909546</td>\n",
       "      <td>1660.909546</td>\n",
       "      <td>41874566399</td>\n",
       "      <td>Wednesday</td>\n",
       "    </tr>\n",
       "    <tr>\n",
       "      <th>4</th>\n",
       "      <td>4</td>\n",
       "      <td>4</td>\n",
       "      <td>4</td>\n",
       "      <td>2021-02-04</td>\n",
       "      <td>1661.170166</td>\n",
       "      <td>1689.186646</td>\n",
       "      <td>1561.853516</td>\n",
       "      <td>1594.762695</td>\n",
       "      <td>1594.762695</td>\n",
       "      <td>44396871836</td>\n",
       "      <td>Thursday</td>\n",
       "    </tr>\n",
       "    <tr>\n",
       "      <th>5</th>\n",
       "      <td>5</td>\n",
       "      <td>5</td>\n",
       "      <td>5</td>\n",
       "      <td>2021-02-05</td>\n",
       "      <td>1594.793335</td>\n",
       "      <td>1756.510986</td>\n",
       "      <td>1594.793335</td>\n",
       "      <td>1718.650879</td>\n",
       "      <td>1718.650879</td>\n",
       "      <td>40108628454</td>\n",
       "      <td>Friday</td>\n",
       "    </tr>\n",
       "    <tr>\n",
       "      <th>8</th>\n",
       "      <td>8</td>\n",
       "      <td>8</td>\n",
       "      <td>8</td>\n",
       "      <td>2021-02-08</td>\n",
       "      <td>1613.642212</td>\n",
       "      <td>1770.590820</td>\n",
       "      <td>1571.579956</td>\n",
       "      <td>1746.616821</td>\n",
       "      <td>1746.616821</td>\n",
       "      <td>48012285956</td>\n",
       "      <td>Monday</td>\n",
       "    </tr>\n",
       "    <tr>\n",
       "      <th>9</th>\n",
       "      <td>9</td>\n",
       "      <td>9</td>\n",
       "      <td>9</td>\n",
       "      <td>2021-02-09</td>\n",
       "      <td>1746.926147</td>\n",
       "      <td>1815.963623</td>\n",
       "      <td>1711.620605</td>\n",
       "      <td>1768.035034</td>\n",
       "      <td>1768.035034</td>\n",
       "      <td>44180727529</td>\n",
       "      <td>Tuesday</td>\n",
       "    </tr>\n",
       "    <tr>\n",
       "      <th>10</th>\n",
       "      <td>10</td>\n",
       "      <td>10</td>\n",
       "      <td>10</td>\n",
       "      <td>2021-02-10</td>\n",
       "      <td>1768.039795</td>\n",
       "      <td>1826.696777</td>\n",
       "      <td>1686.542358</td>\n",
       "      <td>1744.243408</td>\n",
       "      <td>1744.243408</td>\n",
       "      <td>41916084617</td>\n",
       "      <td>Wednesday</td>\n",
       "    </tr>\n",
       "    <tr>\n",
       "      <th>11</th>\n",
       "      <td>11</td>\n",
       "      <td>11</td>\n",
       "      <td>11</td>\n",
       "      <td>2021-02-11</td>\n",
       "      <td>1743.714233</td>\n",
       "      <td>1806.539062</td>\n",
       "      <td>1708.679199</td>\n",
       "      <td>1783.797974</td>\n",
       "      <td>1783.797974</td>\n",
       "      <td>36021495262</td>\n",
       "      <td>Thursday</td>\n",
       "    </tr>\n",
       "    <tr>\n",
       "      <th>12</th>\n",
       "      <td>12</td>\n",
       "      <td>12</td>\n",
       "      <td>12</td>\n",
       "      <td>2021-02-12</td>\n",
       "      <td>1783.489136</td>\n",
       "      <td>1861.356934</td>\n",
       "      <td>1744.168945</td>\n",
       "      <td>1843.532593</td>\n",
       "      <td>1843.532593</td>\n",
       "      <td>37905036865</td>\n",
       "      <td>Friday</td>\n",
       "    </tr>\n",
       "  </tbody>\n",
       "</table>\n",
       "</div>"
      ],
      "text/plain": [
       "    index  Unnamed: 0.1  Unnamed: 0       Date         Open         High  \\\n",
       "1       1             1           1 2021-02-01  1314.855225  1373.845825   \n",
       "2       2             2           2 2021-02-02  1369.505127  1542.990967   \n",
       "3       3             3           3 2021-02-03  1514.769653  1660.909546   \n",
       "4       4             4           4 2021-02-04  1661.170166  1689.186646   \n",
       "5       5             5           5 2021-02-05  1594.793335  1756.510986   \n",
       "8       8             8           8 2021-02-08  1613.642212  1770.590820   \n",
       "9       9             9           9 2021-02-09  1746.926147  1815.963623   \n",
       "10     10            10          10 2021-02-10  1768.039795  1826.696777   \n",
       "11     11            11          11 2021-02-11  1743.714233  1806.539062   \n",
       "12     12            12          12 2021-02-12  1783.489136  1861.356934   \n",
       "\n",
       "            Low        Close    Adj Close       Volume        Day  \n",
       "1   1274.357788  1369.040527  1369.040527  29210670920     Monday  \n",
       "2   1362.771240  1515.193726  1515.193726  45437142801    Tuesday  \n",
       "3   1510.010254  1660.909546  1660.909546  41874566399  Wednesday  \n",
       "4   1561.853516  1594.762695  1594.762695  44396871836   Thursday  \n",
       "5   1594.793335  1718.650879  1718.650879  40108628454     Friday  \n",
       "8   1571.579956  1746.616821  1746.616821  48012285956     Monday  \n",
       "9   1711.620605  1768.035034  1768.035034  44180727529    Tuesday  \n",
       "10  1686.542358  1744.243408  1744.243408  41916084617  Wednesday  \n",
       "11  1708.679199  1783.797974  1783.797974  36021495262   Thursday  \n",
       "12  1744.168945  1843.532593  1843.532593  37905036865     Friday  "
      ]
     },
     "execution_count": 8,
     "metadata": {},
     "output_type": "execute_result"
    }
   ],
   "source": [
    "df_eth_week = descartar_dias(df_eth, ['Saturday', 'Sunday'])\n",
    "df_eth_week.head(10)"
   ]
  },
  {
   "cell_type": "code",
   "execution_count": 9,
   "id": "b2d3fb26-f3c3-4c6e-86e1-8af156ae23c2",
   "metadata": {},
   "outputs": [
    {
     "data": {
      "text/plain": [
       "304"
      ]
     },
     "execution_count": 9,
     "metadata": {},
     "output_type": "execute_result"
    }
   ],
   "source": [
    "len(df_eth_week)"
   ]
  },
  {
   "cell_type": "code",
   "execution_count": 10,
   "id": "3f2fb80a-5ff7-48a5-b5c7-ef51b051bf21",
   "metadata": {},
   "outputs": [
    {
     "data": {
      "text/html": [
       "<div>\n",
       "<style scoped>\n",
       "    .dataframe tbody tr th:only-of-type {\n",
       "        vertical-align: middle;\n",
       "    }\n",
       "\n",
       "    .dataframe tbody tr th {\n",
       "        vertical-align: top;\n",
       "    }\n",
       "\n",
       "    .dataframe thead th {\n",
       "        text-align: right;\n",
       "    }\n",
       "</style>\n",
       "<table border=\"1\" class=\"dataframe\">\n",
       "  <thead>\n",
       "    <tr style=\"text-align: right;\">\n",
       "      <th></th>\n",
       "      <th>Date</th>\n",
       "      <th>Open</th>\n",
       "      <th>High</th>\n",
       "      <th>Low</th>\n",
       "      <th>Close</th>\n",
       "      <th>Adj Close</th>\n",
       "      <th>Volume</th>\n",
       "    </tr>\n",
       "  </thead>\n",
       "  <tbody>\n",
       "    <tr>\n",
       "      <th>0</th>\n",
       "      <td>1/2/2021</td>\n",
       "      <td>3242.360107</td>\n",
       "      <td>3350.26001</td>\n",
       "      <td>3235.030029</td>\n",
       "      <td>3342.879883</td>\n",
       "      <td>3342.879883</td>\n",
       "      <td>4160200</td>\n",
       "    </tr>\n",
       "    <tr>\n",
       "      <th>1</th>\n",
       "      <td>2/2/2021</td>\n",
       "      <td>3380.000000</td>\n",
       "      <td>3427.73999</td>\n",
       "      <td>3361.129883</td>\n",
       "      <td>3380.000000</td>\n",
       "      <td>3380.000000</td>\n",
       "      <td>7098600</td>\n",
       "    </tr>\n",
       "    <tr>\n",
       "      <th>2</th>\n",
       "      <td>3/2/2021</td>\n",
       "      <td>3425.010010</td>\n",
       "      <td>3434.00000</td>\n",
       "      <td>3308.620117</td>\n",
       "      <td>3312.530029</td>\n",
       "      <td>3312.530029</td>\n",
       "      <td>7088800</td>\n",
       "    </tr>\n",
       "    <tr>\n",
       "      <th>3</th>\n",
       "      <td>4/2/2021</td>\n",
       "      <td>3330.000000</td>\n",
       "      <td>3347.00000</td>\n",
       "      <td>3277.750000</td>\n",
       "      <td>3331.000000</td>\n",
       "      <td>3331.000000</td>\n",
       "      <td>3670700</td>\n",
       "    </tr>\n",
       "    <tr>\n",
       "      <th>4</th>\n",
       "      <td>5/2/2021</td>\n",
       "      <td>3319.000000</td>\n",
       "      <td>3377.00000</td>\n",
       "      <td>3302.709961</td>\n",
       "      <td>3352.149902</td>\n",
       "      <td>3352.149902</td>\n",
       "      <td>3620800</td>\n",
       "    </tr>\n",
       "  </tbody>\n",
       "</table>\n",
       "</div>"
      ],
      "text/plain": [
       "       Date         Open        High          Low        Close    Adj Close  \\\n",
       "0  1/2/2021  3242.360107  3350.26001  3235.030029  3342.879883  3342.879883   \n",
       "1  2/2/2021  3380.000000  3427.73999  3361.129883  3380.000000  3380.000000   \n",
       "2  3/2/2021  3425.010010  3434.00000  3308.620117  3312.530029  3312.530029   \n",
       "3  4/2/2021  3330.000000  3347.00000  3277.750000  3331.000000  3331.000000   \n",
       "4  5/2/2021  3319.000000  3377.00000  3302.709961  3352.149902  3352.149902   \n",
       "\n",
       "    Volume  \n",
       "0  4160200  \n",
       "1  7098600  \n",
       "2  7088800  \n",
       "3  3670700  \n",
       "4  3620800  "
      ]
     },
     "execution_count": 10,
     "metadata": {},
     "output_type": "execute_result"
    }
   ],
   "source": [
    "df_amz.head()"
   ]
  },
  {
   "cell_type": "code",
   "execution_count": 11,
   "id": "ff8e5152-03ea-4dea-bf24-650b75f97c31",
   "metadata": {},
   "outputs": [],
   "source": [
    "## Nos quedamos con el precio de cierre\n",
    "precios_amz = df_amz['Close'].tolist()\n",
    "precios_eth = df_eth_week['Close'].tolist()"
   ]
  },
  {
   "cell_type": "markdown",
   "id": "5ff0fd98-feaf-42f6-aeac-7e38425c6023",
   "metadata": {},
   "source": [
    "## Media"
   ]
  },
  {
   "cell_type": "code",
   "execution_count": 12,
   "id": "75291395-4602-4355-bd05-d6ad45342a16",
   "metadata": {},
   "outputs": [],
   "source": [
    "def media(lista):\n",
    "    return sum(lista) / len(lista)"
   ]
  },
  {
   "cell_type": "code",
   "execution_count": 13,
   "id": "e64e4c59-0758-4e87-8eed-15742e8ca9b6",
   "metadata": {},
   "outputs": [
    {
     "name": "stdout",
     "output_type": "stream",
     "text": [
      "3299.830895766101\n"
     ]
    }
   ],
   "source": [
    "# Media AMZ\n",
    "media_aws = media(precios_amz)\n",
    "print(media_aws)"
   ]
  },
  {
   "cell_type": "code",
   "execution_count": 14,
   "id": "ea5f3787-4143-4f8b-99d8-f5ca07d8a26b",
   "metadata": {},
   "outputs": [
    {
     "name": "stdout",
     "output_type": "stream",
     "text": [
      "2927.1955982409027\n"
     ]
    }
   ],
   "source": [
    "# Media ETH\n",
    "media_eth = media(precios_eth)\n",
    "print(media_eth)"
   ]
  },
  {
   "cell_type": "code",
   "execution_count": 15,
   "id": "9bbc1d0d-efab-4177-9cae-a207c2e56fc1",
   "metadata": {},
   "outputs": [],
   "source": [
    "# Mediana \n",
    "def mediana(lista):\n",
    "    lista_sorted = sorted(lista)\n",
    "    return   (lista_sorted[len(lista_sorted) // 2 ] +  lista_sorted[len(lista_sorted) // 2 -1]) / 2  if len(lista_sorted) % 2 == 0 else lista_sorted[len(lista_sorted) // 2 ]"
   ]
  },
  {
   "cell_type": "code",
   "execution_count": 16,
   "id": "c7c0d3ba-e2c5-47fa-89f8-87965c4aee7e",
   "metadata": {},
   "outputs": [
    {
     "name": "stdout",
     "output_type": "stream",
     "text": [
      "3312.530029\n"
     ]
    }
   ],
   "source": [
    "# Mediana AMZ\n",
    "mediana_aws = mediana(precios_amz)\n",
    "print(mediana_aws)"
   ]
  },
  {
   "cell_type": "code",
   "execution_count": 17,
   "id": "b2ee1d52-7b8e-4c54-a9ed-703947caf0aa",
   "metadata": {},
   "outputs": [
    {
     "name": "stdout",
     "output_type": "stream",
     "text": [
      "2885.09033203125\n"
     ]
    }
   ],
   "source": [
    "# Mediana ETH\n",
    "mediana_eth = mediana(precios_eth)\n",
    "print(mediana_eth)"
   ]
  },
  {
   "cell_type": "code",
   "execution_count": 18,
   "id": "5acee8d4-3766-4585-9b7e-b255f71b68de",
   "metadata": {},
   "outputs": [],
   "source": [
    "def moda(lista):\n",
    "    from collections import Counter\n",
    "    \"\"\"\n",
    "    Encuentra el elemento más repetido en una lista.\n",
    "    Retorna el elemento más frecuente.\n",
    "    \"\"\"\n",
    "    if not lista:\n",
    "        return None\n",
    "    \n",
    "    contador = Counter(lista)\n",
    "    elemento, frecuencia = contador.most_common(1)[0]\n",
    "    return elemento"
   ]
  },
  {
   "cell_type": "code",
   "execution_count": 19,
   "id": "83ecfa5a-9ff6-44e6-90f5-c43d79ee611a",
   "metadata": {},
   "outputs": [
    {
     "name": "stdout",
     "output_type": "stream",
     "text": [
      "1369.04052734375\n"
     ]
    }
   ],
   "source": [
    "# Mediana ETH\n",
    "moda_eth = moda(precios_eth)\n",
    "print(moda_eth)"
   ]
  },
  {
   "cell_type": "code",
   "execution_count": 20,
   "id": "58722448-6cd5-4ade-8b29-1b2a31b6090e",
   "metadata": {},
   "outputs": [
    {
     "name": "stdout",
     "output_type": "stream",
     "text": [
      "3052.030029\n"
     ]
    }
   ],
   "source": [
    "# moda AMZ\n",
    "moda_aws = moda(precios_amz)\n",
    "print(moda_aws)"
   ]
  },
  {
   "cell_type": "code",
   "execution_count": 23,
   "id": "3ce3d645-2261-45b9-baa2-74b371a74519",
   "metadata": {},
   "outputs": [
    {
     "data": {
      "text/html": [
       "<div>\n",
       "<style scoped>\n",
       "    .dataframe tbody tr th:only-of-type {\n",
       "        vertical-align: middle;\n",
       "    }\n",
       "\n",
       "    .dataframe tbody tr th {\n",
       "        vertical-align: top;\n",
       "    }\n",
       "\n",
       "    .dataframe thead th {\n",
       "        text-align: right;\n",
       "    }\n",
       "</style>\n",
       "<table border=\"1\" class=\"dataframe\">\n",
       "  <thead>\n",
       "    <tr style=\"text-align: right;\">\n",
       "      <th></th>\n",
       "      <th>Media</th>\n",
       "      <th>Media</th>\n",
       "      <th>Moda</th>\n",
       "    </tr>\n",
       "  </thead>\n",
       "  <tbody>\n",
       "    <tr>\n",
       "      <th>AMZ</th>\n",
       "      <td>3299.830896</td>\n",
       "      <td>3312.530029</td>\n",
       "      <td>3052.030029</td>\n",
       "    </tr>\n",
       "    <tr>\n",
       "      <th>ETH</th>\n",
       "      <td>2927.195598</td>\n",
       "      <td>2885.090332</td>\n",
       "      <td>1369.040527</td>\n",
       "    </tr>\n",
       "  </tbody>\n",
       "</table>\n",
       "</div>"
      ],
      "text/plain": [
       "           Media        Media         Moda\n",
       "AMZ  3299.830896  3312.530029  3052.030029\n",
       "ETH  2927.195598  2885.090332  1369.040527"
      ]
     },
     "execution_count": 23,
     "metadata": {},
     "output_type": "execute_result"
    }
   ],
   "source": [
    "## Medidas de dispersion\n",
    "pd.DataFrame(\n",
    "    [[media_aws, mediana_aws, moda_aws],\n",
    "    [media_eth, mediana_eth, moda_eth]], \n",
    "    index = [['AMZ', 'ETH']],\n",
    "    columns = ['Media', 'Media', 'Moda']\n",
    ")"
   ]
  }
 ],
 "metadata": {
  "kernelspec": {
   "display_name": "Python 3 (ipykernel)",
   "language": "python",
   "name": "python3"
  },
  "language_info": {
   "codemirror_mode": {
    "name": "ipython",
    "version": 3
   },
   "file_extension": ".py",
   "mimetype": "text/x-python",
   "name": "python",
   "nbconvert_exporter": "python",
   "pygments_lexer": "ipython3",
   "version": "3.11.13"
  }
 },
 "nbformat": 4,
 "nbformat_minor": 5
}
